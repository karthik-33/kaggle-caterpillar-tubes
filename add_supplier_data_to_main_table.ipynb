{
 "cells": [
  {
   "cell_type": "markdown",
   "metadata": {},
   "source": [
    "## Objective: Add supplier data to main data table"
   ]
  },
  {
   "cell_type": "code",
   "execution_count": 1,
   "metadata": {
    "collapsed": false
   },
   "outputs": [],
   "source": [
    "import pandas as pd\n",
    "import numpy as np\n",
    "from sklearn.model_selection import train_test_split"
   ]
  },
  {
   "cell_type": "code",
   "execution_count": 4,
   "metadata": {
    "collapsed": true
   },
   "outputs": [],
   "source": [
    "df = pd.read_csv(\"data_tables/for_adding_sup_data.csv\")"
   ]
  },
  {
   "cell_type": "code",
   "execution_count": null,
   "metadata": {
    "collapsed": true
   },
   "outputs": [],
   "source": [
    "del df[\"Unnamed: 0\"]"
   ]
  },
  {
   "cell_type": "code",
   "execution_count": 5,
   "metadata": {
    "collapsed": true
   },
   "outputs": [],
   "source": [
    "# No. of suppliers per TA\n",
    "num_sup = df.groupby(\"tube_assembly_id\").supplier.nunique()"
   ]
  },
  {
   "cell_type": "code",
   "execution_count": 6,
   "metadata": {
    "collapsed": true
   },
   "outputs": [],
   "source": [
    "# Annual usage by supplier\n",
    "au_sup = pd.pivot_table(df, index = \"supplier\", values = \"annual_usage\", aggfunc = \"sum\")"
   ]
  },
  {
   "cell_type": "code",
   "execution_count": 21,
   "metadata": {
    "collapsed": true
   },
   "outputs": [],
   "source": [
    "# Make df with supplier and TA-id\n",
    "df_sup_raw = num_sup.to_frame()\n",
    "df_sup_raw[\"tube_assembly_id\"] = df_sup_raw.index\n",
    "df_sup_raw.index = range(df_sup_raw.shape[0])\n",
    "df_sup_raw = df_sup_raw.rename(columns = {\"supplier\": \"num_supplier\"})"
   ]
  },
  {
   "cell_type": "code",
   "execution_count": 22,
   "metadata": {
    "collapsed": false
   },
   "outputs": [
    {
     "data": {
      "text/html": [
       "<div>\n",
       "<table border=\"1\" class=\"dataframe\">\n",
       "  <thead>\n",
       "    <tr style=\"text-align: right;\">\n",
       "      <th></th>\n",
       "      <th>num_supplier</th>\n",
       "      <th>tube_assembly_id</th>\n",
       "    </tr>\n",
       "  </thead>\n",
       "  <tbody>\n",
       "    <tr>\n",
       "      <th>0</th>\n",
       "      <td>1</td>\n",
       "      <td>TA-00002</td>\n",
       "    </tr>\n",
       "    <tr>\n",
       "      <th>1</th>\n",
       "      <td>1</td>\n",
       "      <td>TA-00004</td>\n",
       "    </tr>\n",
       "    <tr>\n",
       "      <th>2</th>\n",
       "      <td>1</td>\n",
       "      <td>TA-00005</td>\n",
       "    </tr>\n",
       "    <tr>\n",
       "      <th>3</th>\n",
       "      <td>1</td>\n",
       "      <td>TA-00012</td>\n",
       "    </tr>\n",
       "    <tr>\n",
       "      <th>4</th>\n",
       "      <td>1</td>\n",
       "      <td>TA-00013</td>\n",
       "    </tr>\n",
       "  </tbody>\n",
       "</table>\n",
       "</div>"
      ],
      "text/plain": [
       "   num_supplier tube_assembly_id\n",
       "0             1         TA-00002\n",
       "1             1         TA-00004\n",
       "2             1         TA-00005\n",
       "3             1         TA-00012\n",
       "4             1         TA-00013"
      ]
     },
     "execution_count": 22,
     "metadata": {},
     "output_type": "execute_result"
    }
   ],
   "source": [
    "df_sup_raw.head()"
   ]
  },
  {
   "cell_type": "code",
   "execution_count": 24,
   "metadata": {
    "collapsed": false
   },
   "outputs": [],
   "source": [
    "# Make df with au and supplier\n",
    "df_au_raw = au_sup.to_frame()\n",
    "df_au_raw[\"supplier\"] = df_au_raw.index\n",
    "df_au_raw.index = range(df_au_raw.shape[0])\n",
    "df_au_raw = df_au_raw.rename(columns = {\"annual_usage\": \"total_annual_usage\"})"
   ]
  },
  {
   "cell_type": "code",
   "execution_count": 25,
   "metadata": {
    "collapsed": false
   },
   "outputs": [
    {
     "data": {
      "text/html": [
       "<div>\n",
       "<table border=\"1\" class=\"dataframe\">\n",
       "  <thead>\n",
       "    <tr style=\"text-align: right;\">\n",
       "      <th></th>\n",
       "      <th>total_annual_usage</th>\n",
       "      <th>supplier</th>\n",
       "    </tr>\n",
       "  </thead>\n",
       "  <tbody>\n",
       "    <tr>\n",
       "      <th>0</th>\n",
       "      <td>4</td>\n",
       "      <td>S-0003</td>\n",
       "    </tr>\n",
       "    <tr>\n",
       "      <th>1</th>\n",
       "      <td>1</td>\n",
       "      <td>S-0004</td>\n",
       "    </tr>\n",
       "    <tr>\n",
       "      <th>2</th>\n",
       "      <td>8733</td>\n",
       "      <td>S-0005</td>\n",
       "    </tr>\n",
       "    <tr>\n",
       "      <th>3</th>\n",
       "      <td>300</td>\n",
       "      <td>S-0006</td>\n",
       "    </tr>\n",
       "    <tr>\n",
       "      <th>4</th>\n",
       "      <td>1551</td>\n",
       "      <td>S-0007</td>\n",
       "    </tr>\n",
       "  </tbody>\n",
       "</table>\n",
       "</div>"
      ],
      "text/plain": [
       "   total_annual_usage supplier\n",
       "0                   4   S-0003\n",
       "1                   1   S-0004\n",
       "2                8733   S-0005\n",
       "3                 300   S-0006\n",
       "4                1551   S-0007"
      ]
     },
     "execution_count": 25,
     "metadata": {},
     "output_type": "execute_result"
    }
   ],
   "source": [
    "df_au_raw.head()"
   ]
  },
  {
   "cell_type": "code",
   "execution_count": 28,
   "metadata": {
    "collapsed": false
   },
   "outputs": [],
   "source": [
    "df[\"quote_date\"] = df[\"quote_date\"].astype(\"datetime64\")"
   ]
  },
  {
   "cell_type": "code",
   "execution_count": 40,
   "metadata": {
    "collapsed": true
   },
   "outputs": [],
   "source": [
    "# Min and max dates supplier\n",
    "dt_sup = pd.pivot_table(df, index = \"supplier\", values = \"quote_date\", aggfunc = \"max\")"
   ]
  },
  {
   "cell_type": "code",
   "execution_count": 44,
   "metadata": {
    "collapsed": false
   },
   "outputs": [],
   "source": [
    "# Make df with last date and supplier\n",
    "df_dt_raw = dt_sup.to_frame()\n",
    "df_dt_raw[\"supplier\"] = df_dt_raw.index\n",
    "df_dt_raw.index = range(df_dt_raw.shape[0])\n",
    "df_dt_raw = df_dt_raw.rename(columns = {\"quote_date\": \"last_date_in_data\"})"
   ]
  },
  {
   "cell_type": "code",
   "execution_count": 45,
   "metadata": {
    "collapsed": false
   },
   "outputs": [
    {
     "data": {
      "text/html": [
       "<div>\n",
       "<table border=\"1\" class=\"dataframe\">\n",
       "  <thead>\n",
       "    <tr style=\"text-align: right;\">\n",
       "      <th></th>\n",
       "      <th>last_date_in_data</th>\n",
       "      <th>supplier</th>\n",
       "    </tr>\n",
       "  </thead>\n",
       "  <tbody>\n",
       "    <tr>\n",
       "      <th>0</th>\n",
       "      <td>2012-05-09</td>\n",
       "      <td>S-0003</td>\n",
       "    </tr>\n",
       "    <tr>\n",
       "      <th>1</th>\n",
       "      <td>2013-07-22</td>\n",
       "      <td>S-0004</td>\n",
       "    </tr>\n",
       "    <tr>\n",
       "      <th>2</th>\n",
       "      <td>2014-07-24</td>\n",
       "      <td>S-0005</td>\n",
       "    </tr>\n",
       "    <tr>\n",
       "      <th>3</th>\n",
       "      <td>2013-12-19</td>\n",
       "      <td>S-0006</td>\n",
       "    </tr>\n",
       "    <tr>\n",
       "      <th>4</th>\n",
       "      <td>2011-12-01</td>\n",
       "      <td>S-0007</td>\n",
       "    </tr>\n",
       "  </tbody>\n",
       "</table>\n",
       "</div>"
      ],
      "text/plain": [
       "  last_date_in_data supplier\n",
       "0        2012-05-09   S-0003\n",
       "1        2013-07-22   S-0004\n",
       "2        2014-07-24   S-0005\n",
       "3        2013-12-19   S-0006\n",
       "4        2011-12-01   S-0007"
      ]
     },
     "execution_count": 45,
     "metadata": {},
     "output_type": "execute_result"
    }
   ],
   "source": [
    "df_dt_raw.head()"
   ]
  },
  {
   "cell_type": "code",
   "execution_count": 49,
   "metadata": {
    "collapsed": false
   },
   "outputs": [
    {
     "data": {
      "text/plain": [
       "(29720, 123)"
      ]
     },
     "execution_count": 49,
     "metadata": {},
     "output_type": "execute_result"
    }
   ],
   "source": [
    "df.shape"
   ]
  },
  {
   "cell_type": "code",
   "execution_count": 50,
   "metadata": {
    "collapsed": true
   },
   "outputs": [],
   "source": [
    "# Merge df and df_sup_raw\n",
    "df1 = df.merge(df_sup_raw, how = \"left\", on = \"tube_assembly_id\")"
   ]
  },
  {
   "cell_type": "code",
   "execution_count": 51,
   "metadata": {
    "collapsed": false
   },
   "outputs": [
    {
     "data": {
      "text/plain": [
       "(29720, 124)"
      ]
     },
     "execution_count": 51,
     "metadata": {},
     "output_type": "execute_result"
    }
   ],
   "source": [
    "df1.shape"
   ]
  },
  {
   "cell_type": "code",
   "execution_count": 52,
   "metadata": {
    "collapsed": true
   },
   "outputs": [],
   "source": [
    "# Merge df1 and df_au_raw\n",
    "df2 = df1.merge(df_au_raw, how = \"left\", on = \"supplier\")"
   ]
  },
  {
   "cell_type": "code",
   "execution_count": 53,
   "metadata": {
    "collapsed": false
   },
   "outputs": [
    {
     "data": {
      "text/plain": [
       "(29720, 125)"
      ]
     },
     "execution_count": 53,
     "metadata": {},
     "output_type": "execute_result"
    }
   ],
   "source": [
    "df2.shape"
   ]
  },
  {
   "cell_type": "code",
   "execution_count": 58,
   "metadata": {
    "collapsed": true
   },
   "outputs": [],
   "source": [
    "# Merge df2 and df_dt_raw\n",
    "df3 = df2.merge(df_dt_raw, how = \"left\", on = \"supplier\")"
   ]
  },
  {
   "cell_type": "code",
   "execution_count": 59,
   "metadata": {
    "collapsed": false
   },
   "outputs": [
    {
     "data": {
      "text/plain": [
       "(29720, 126)"
      ]
     },
     "execution_count": 59,
     "metadata": {},
     "output_type": "execute_result"
    }
   ],
   "source": [
    "df3.shape"
   ]
  },
  {
   "cell_type": "code",
   "execution_count": 81,
   "metadata": {
    "collapsed": false
   },
   "outputs": [],
   "source": [
    "df3[\"num_days_supplier_known\"] = pd.to_timedelta(df3[\"last_date_in_data\"] - df3[\"quote_date\"])"
   ]
  },
  {
   "cell_type": "code",
   "execution_count": 82,
   "metadata": {
    "collapsed": true
   },
   "outputs": [],
   "source": [
    "df3[\"num_days_supp_relationship\"] = [i.days for i in df3[\"num_days_supplier_known\"]]"
   ]
  },
  {
   "cell_type": "code",
   "execution_count": 87,
   "metadata": {
    "collapsed": false
   },
   "outputs": [
    {
     "data": {
      "text/plain": [
       "0"
      ]
     },
     "execution_count": 87,
     "metadata": {},
     "output_type": "execute_result"
    }
   ],
   "source": [
    "df3[\"num_days_supp_relationship\"].min()"
   ]
  },
  {
   "cell_type": "code",
   "execution_count": 88,
   "metadata": {
    "collapsed": true
   },
   "outputs": [],
   "source": [
    "del df3[\"num_days_supplier_known\"]\n",
    "del df3[\"tube_assembly_id\"]\n",
    "del df3[\"supplier\"]\n",
    "del df3[\"quote_date\"]\n",
    "del df3[\"last_date_in_data\"]"
   ]
  },
  {
   "cell_type": "code",
   "execution_count": 89,
   "metadata": {
    "collapsed": true
   },
   "outputs": [],
   "source": [
    "df3.to_csv(\"data_tables/supplier_cleaned_final.csv\")"
   ]
  },
  {
   "cell_type": "code",
   "execution_count": 2,
   "metadata": {
    "collapsed": true
   },
   "outputs": [],
   "source": [
    "df3 = pd.read_csv(\"data_tables/supplier_cleaned_final.csv\")"
   ]
  },
  {
   "cell_type": "code",
   "execution_count": 3,
   "metadata": {
    "collapsed": false
   },
   "outputs": [
    {
     "data": {
      "text/plain": [
       "Index(['Unnamed: 0', 'annual_usage', 'cost', 'diameter', 'wall', 'length',\n",
       "       'num_bends', 'bend_radius', 'num_boss', 'num_bracket',\n",
       "       ...\n",
       "       'ex_EF-022', 'ex_EF-023', 'ex_NONE', 'ea_form_N', 'ea_form_Y',\n",
       "       'ex_form_N', 'ex_form_Y', 'num_supplier', 'total_annual_usage',\n",
       "       'num_days_supp_relationship'],\n",
       "      dtype='object', length=124)"
      ]
     },
     "execution_count": 3,
     "metadata": {},
     "output_type": "execute_result"
    }
   ],
   "source": [
    "df3.columns"
   ]
  },
  {
   "cell_type": "code",
   "execution_count": 4,
   "metadata": {
    "collapsed": false
   },
   "outputs": [
    {
     "data": {
      "text/html": [
       "<div>\n",
       "<table border=\"1\" class=\"dataframe\">\n",
       "  <thead>\n",
       "    <tr style=\"text-align: right;\">\n",
       "      <th></th>\n",
       "      <th>Unnamed: 0</th>\n",
       "      <th>annual_usage</th>\n",
       "      <th>cost</th>\n",
       "      <th>diameter</th>\n",
       "      <th>wall</th>\n",
       "      <th>length</th>\n",
       "      <th>num_bends</th>\n",
       "      <th>bend_radius</th>\n",
       "      <th>num_boss</th>\n",
       "      <th>num_bracket</th>\n",
       "      <th>...</th>\n",
       "      <th>ex_EF-022</th>\n",
       "      <th>ex_EF-023</th>\n",
       "      <th>ex_NONE</th>\n",
       "      <th>ea_form_N</th>\n",
       "      <th>ea_form_Y</th>\n",
       "      <th>ex_form_N</th>\n",
       "      <th>ex_form_Y</th>\n",
       "      <th>num_supplier</th>\n",
       "      <th>total_annual_usage</th>\n",
       "      <th>num_days_supp_relationship</th>\n",
       "    </tr>\n",
       "  </thead>\n",
       "  <tbody>\n",
       "    <tr>\n",
       "      <th>0</th>\n",
       "      <td>0</td>\n",
       "      <td>0</td>\n",
       "      <td>21.905933</td>\n",
       "      <td>6.35</td>\n",
       "      <td>0.71</td>\n",
       "      <td>137.0</td>\n",
       "      <td>8</td>\n",
       "      <td>19.05</td>\n",
       "      <td>0</td>\n",
       "      <td>0</td>\n",
       "      <td>...</td>\n",
       "      <td>0.0</td>\n",
       "      <td>0.0</td>\n",
       "      <td>0.0</td>\n",
       "      <td>0.0</td>\n",
       "      <td>1.0</td>\n",
       "      <td>0.0</td>\n",
       "      <td>1.0</td>\n",
       "      <td>1</td>\n",
       "      <td>352193</td>\n",
       "      <td>482</td>\n",
       "    </tr>\n",
       "    <tr>\n",
       "      <th>1</th>\n",
       "      <td>1</td>\n",
       "      <td>0</td>\n",
       "      <td>12.341214</td>\n",
       "      <td>6.35</td>\n",
       "      <td>0.71</td>\n",
       "      <td>137.0</td>\n",
       "      <td>8</td>\n",
       "      <td>19.05</td>\n",
       "      <td>0</td>\n",
       "      <td>0</td>\n",
       "      <td>...</td>\n",
       "      <td>0.0</td>\n",
       "      <td>0.0</td>\n",
       "      <td>0.0</td>\n",
       "      <td>0.0</td>\n",
       "      <td>1.0</td>\n",
       "      <td>0.0</td>\n",
       "      <td>1.0</td>\n",
       "      <td>1</td>\n",
       "      <td>352193</td>\n",
       "      <td>482</td>\n",
       "    </tr>\n",
       "    <tr>\n",
       "      <th>2</th>\n",
       "      <td>2</td>\n",
       "      <td>0</td>\n",
       "      <td>6.601826</td>\n",
       "      <td>6.35</td>\n",
       "      <td>0.71</td>\n",
       "      <td>137.0</td>\n",
       "      <td>8</td>\n",
       "      <td>19.05</td>\n",
       "      <td>0</td>\n",
       "      <td>0</td>\n",
       "      <td>...</td>\n",
       "      <td>0.0</td>\n",
       "      <td>0.0</td>\n",
       "      <td>0.0</td>\n",
       "      <td>0.0</td>\n",
       "      <td>1.0</td>\n",
       "      <td>0.0</td>\n",
       "      <td>1.0</td>\n",
       "      <td>1</td>\n",
       "      <td>352193</td>\n",
       "      <td>482</td>\n",
       "    </tr>\n",
       "    <tr>\n",
       "      <th>3</th>\n",
       "      <td>3</td>\n",
       "      <td>0</td>\n",
       "      <td>4.687770</td>\n",
       "      <td>6.35</td>\n",
       "      <td>0.71</td>\n",
       "      <td>137.0</td>\n",
       "      <td>8</td>\n",
       "      <td>19.05</td>\n",
       "      <td>0</td>\n",
       "      <td>0</td>\n",
       "      <td>...</td>\n",
       "      <td>0.0</td>\n",
       "      <td>0.0</td>\n",
       "      <td>0.0</td>\n",
       "      <td>0.0</td>\n",
       "      <td>1.0</td>\n",
       "      <td>0.0</td>\n",
       "      <td>1.0</td>\n",
       "      <td>1</td>\n",
       "      <td>352193</td>\n",
       "      <td>482</td>\n",
       "    </tr>\n",
       "    <tr>\n",
       "      <th>4</th>\n",
       "      <td>4</td>\n",
       "      <td>0</td>\n",
       "      <td>3.541561</td>\n",
       "      <td>6.35</td>\n",
       "      <td>0.71</td>\n",
       "      <td>137.0</td>\n",
       "      <td>8</td>\n",
       "      <td>19.05</td>\n",
       "      <td>0</td>\n",
       "      <td>0</td>\n",
       "      <td>...</td>\n",
       "      <td>0.0</td>\n",
       "      <td>0.0</td>\n",
       "      <td>0.0</td>\n",
       "      <td>0.0</td>\n",
       "      <td>1.0</td>\n",
       "      <td>0.0</td>\n",
       "      <td>1.0</td>\n",
       "      <td>1</td>\n",
       "      <td>352193</td>\n",
       "      <td>482</td>\n",
       "    </tr>\n",
       "  </tbody>\n",
       "</table>\n",
       "<p>5 rows × 124 columns</p>\n",
       "</div>"
      ],
      "text/plain": [
       "   Unnamed: 0  annual_usage       cost  diameter  wall  length  num_bends  \\\n",
       "0           0             0  21.905933      6.35  0.71   137.0          8   \n",
       "1           1             0  12.341214      6.35  0.71   137.0          8   \n",
       "2           2             0   6.601826      6.35  0.71   137.0          8   \n",
       "3           3             0   4.687770      6.35  0.71   137.0          8   \n",
       "4           4             0   3.541561      6.35  0.71   137.0          8   \n",
       "\n",
       "   bend_radius  num_boss  num_bracket             ...              ex_EF-022  \\\n",
       "0        19.05         0            0             ...                    0.0   \n",
       "1        19.05         0            0             ...                    0.0   \n",
       "2        19.05         0            0             ...                    0.0   \n",
       "3        19.05         0            0             ...                    0.0   \n",
       "4        19.05         0            0             ...                    0.0   \n",
       "\n",
       "   ex_EF-023  ex_NONE  ea_form_N  ea_form_Y  ex_form_N  ex_form_Y  \\\n",
       "0        0.0      0.0        0.0        1.0        0.0        1.0   \n",
       "1        0.0      0.0        0.0        1.0        0.0        1.0   \n",
       "2        0.0      0.0        0.0        1.0        0.0        1.0   \n",
       "3        0.0      0.0        0.0        1.0        0.0        1.0   \n",
       "4        0.0      0.0        0.0        1.0        0.0        1.0   \n",
       "\n",
       "   num_supplier  total_annual_usage  num_days_supp_relationship  \n",
       "0             1              352193                         482  \n",
       "1             1              352193                         482  \n",
       "2             1              352193                         482  \n",
       "3             1              352193                         482  \n",
       "4             1              352193                         482  \n",
       "\n",
       "[5 rows x 124 columns]"
      ]
     },
     "execution_count": 4,
     "metadata": {},
     "output_type": "execute_result"
    }
   ],
   "source": [
    "df3.head()"
   ]
  },
  {
   "cell_type": "code",
   "execution_count": 5,
   "metadata": {
    "collapsed": true
   },
   "outputs": [],
   "source": [
    "y = df3[\"cost\"]\n",
    "del df3[\"cost\"]"
   ]
  },
  {
   "cell_type": "code",
   "execution_count": 6,
   "metadata": {
    "collapsed": true
   },
   "outputs": [],
   "source": [
    "X_train, X_test, y_train, y_test = train_test_split(df3, y, test_size = 0.3)"
   ]
  },
  {
   "cell_type": "code",
   "execution_count": 7,
   "metadata": {
    "collapsed": false
   },
   "outputs": [
    {
     "data": {
      "text/html": [
       "<div>\n",
       "<table border=\"1\" class=\"dataframe\">\n",
       "  <thead>\n",
       "    <tr style=\"text-align: right;\">\n",
       "      <th></th>\n",
       "      <th>Unnamed: 0</th>\n",
       "      <th>annual_usage</th>\n",
       "      <th>diameter</th>\n",
       "      <th>wall</th>\n",
       "      <th>length</th>\n",
       "      <th>num_bends</th>\n",
       "      <th>bend_radius</th>\n",
       "      <th>num_boss</th>\n",
       "      <th>num_bracket</th>\n",
       "      <th>num_other</th>\n",
       "      <th>...</th>\n",
       "      <th>ex_EF-022</th>\n",
       "      <th>ex_EF-023</th>\n",
       "      <th>ex_NONE</th>\n",
       "      <th>ea_form_N</th>\n",
       "      <th>ea_form_Y</th>\n",
       "      <th>ex_form_N</th>\n",
       "      <th>ex_form_Y</th>\n",
       "      <th>num_supplier</th>\n",
       "      <th>total_annual_usage</th>\n",
       "      <th>num_days_supp_relationship</th>\n",
       "    </tr>\n",
       "  </thead>\n",
       "  <tbody>\n",
       "    <tr>\n",
       "      <th>16187</th>\n",
       "      <td>16187</td>\n",
       "      <td>0</td>\n",
       "      <td>9.52</td>\n",
       "      <td>0.71</td>\n",
       "      <td>49.0</td>\n",
       "      <td>3</td>\n",
       "      <td>31.75</td>\n",
       "      <td>0</td>\n",
       "      <td>0</td>\n",
       "      <td>0</td>\n",
       "      <td>...</td>\n",
       "      <td>0.0</td>\n",
       "      <td>0.0</td>\n",
       "      <td>0.0</td>\n",
       "      <td>1.0</td>\n",
       "      <td>0.0</td>\n",
       "      <td>1.0</td>\n",
       "      <td>0.0</td>\n",
       "      <td>1</td>\n",
       "      <td>352193</td>\n",
       "      <td>518</td>\n",
       "    </tr>\n",
       "    <tr>\n",
       "      <th>18108</th>\n",
       "      <td>18108</td>\n",
       "      <td>90</td>\n",
       "      <td>25.40</td>\n",
       "      <td>1.65</td>\n",
       "      <td>17.0</td>\n",
       "      <td>1</td>\n",
       "      <td>50.80</td>\n",
       "      <td>0</td>\n",
       "      <td>0</td>\n",
       "      <td>0</td>\n",
       "      <td>...</td>\n",
       "      <td>0.0</td>\n",
       "      <td>0.0</td>\n",
       "      <td>0.0</td>\n",
       "      <td>1.0</td>\n",
       "      <td>0.0</td>\n",
       "      <td>0.0</td>\n",
       "      <td>1.0</td>\n",
       "      <td>1</td>\n",
       "      <td>48474</td>\n",
       "      <td>443</td>\n",
       "    </tr>\n",
       "    <tr>\n",
       "      <th>17824</th>\n",
       "      <td>17824</td>\n",
       "      <td>4</td>\n",
       "      <td>9.52</td>\n",
       "      <td>0.89</td>\n",
       "      <td>21.0</td>\n",
       "      <td>2</td>\n",
       "      <td>19.05</td>\n",
       "      <td>0</td>\n",
       "      <td>0</td>\n",
       "      <td>0</td>\n",
       "      <td>...</td>\n",
       "      <td>0.0</td>\n",
       "      <td>0.0</td>\n",
       "      <td>0.0</td>\n",
       "      <td>1.0</td>\n",
       "      <td>0.0</td>\n",
       "      <td>1.0</td>\n",
       "      <td>0.0</td>\n",
       "      <td>1</td>\n",
       "      <td>352193</td>\n",
       "      <td>810</td>\n",
       "    </tr>\n",
       "    <tr>\n",
       "      <th>24601</th>\n",
       "      <td>24601</td>\n",
       "      <td>0</td>\n",
       "      <td>12.70</td>\n",
       "      <td>1.24</td>\n",
       "      <td>25.0</td>\n",
       "      <td>1</td>\n",
       "      <td>38.10</td>\n",
       "      <td>0</td>\n",
       "      <td>0</td>\n",
       "      <td>0</td>\n",
       "      <td>...</td>\n",
       "      <td>0.0</td>\n",
       "      <td>0.0</td>\n",
       "      <td>0.0</td>\n",
       "      <td>0.0</td>\n",
       "      <td>1.0</td>\n",
       "      <td>0.0</td>\n",
       "      <td>1.0</td>\n",
       "      <td>1</td>\n",
       "      <td>352193</td>\n",
       "      <td>518</td>\n",
       "    </tr>\n",
       "    <tr>\n",
       "      <th>27099</th>\n",
       "      <td>27099</td>\n",
       "      <td>0</td>\n",
       "      <td>12.70</td>\n",
       "      <td>1.65</td>\n",
       "      <td>104.0</td>\n",
       "      <td>4</td>\n",
       "      <td>25.40</td>\n",
       "      <td>0</td>\n",
       "      <td>0</td>\n",
       "      <td>0</td>\n",
       "      <td>...</td>\n",
       "      <td>0.0</td>\n",
       "      <td>0.0</td>\n",
       "      <td>0.0</td>\n",
       "      <td>1.0</td>\n",
       "      <td>0.0</td>\n",
       "      <td>1.0</td>\n",
       "      <td>0.0</td>\n",
       "      <td>1</td>\n",
       "      <td>352193</td>\n",
       "      <td>518</td>\n",
       "    </tr>\n",
       "  </tbody>\n",
       "</table>\n",
       "<p>5 rows × 123 columns</p>\n",
       "</div>"
      ],
      "text/plain": [
       "       Unnamed: 0  annual_usage  diameter  wall  length  num_bends  \\\n",
       "16187       16187             0      9.52  0.71    49.0          3   \n",
       "18108       18108            90     25.40  1.65    17.0          1   \n",
       "17824       17824             4      9.52  0.89    21.0          2   \n",
       "24601       24601             0     12.70  1.24    25.0          1   \n",
       "27099       27099             0     12.70  1.65   104.0          4   \n",
       "\n",
       "       bend_radius  num_boss  num_bracket  num_other  \\\n",
       "16187        31.75         0            0          0   \n",
       "18108        50.80         0            0          0   \n",
       "17824        19.05         0            0          0   \n",
       "24601        38.10         0            0          0   \n",
       "27099        25.40         0            0          0   \n",
       "\n",
       "                  ...              ex_EF-022  ex_EF-023  ex_NONE  ea_form_N  \\\n",
       "16187             ...                    0.0        0.0      0.0        1.0   \n",
       "18108             ...                    0.0        0.0      0.0        1.0   \n",
       "17824             ...                    0.0        0.0      0.0        1.0   \n",
       "24601             ...                    0.0        0.0      0.0        0.0   \n",
       "27099             ...                    0.0        0.0      0.0        1.0   \n",
       "\n",
       "       ea_form_Y  ex_form_N  ex_form_Y  num_supplier  total_annual_usage  \\\n",
       "16187        0.0        1.0        0.0             1              352193   \n",
       "18108        0.0        0.0        1.0             1               48474   \n",
       "17824        0.0        1.0        0.0             1              352193   \n",
       "24601        1.0        0.0        1.0             1              352193   \n",
       "27099        0.0        1.0        0.0             1              352193   \n",
       "\n",
       "       num_days_supp_relationship  \n",
       "16187                         518  \n",
       "18108                         443  \n",
       "17824                         810  \n",
       "24601                         518  \n",
       "27099                         518  \n",
       "\n",
       "[5 rows x 123 columns]"
      ]
     },
     "execution_count": 7,
     "metadata": {},
     "output_type": "execute_result"
    }
   ],
   "source": [
    "X_train.head()"
   ]
  },
  {
   "cell_type": "code",
   "execution_count": null,
   "metadata": {
    "collapsed": true
   },
   "outputs": [],
   "source": []
  }
 ],
 "metadata": {
  "anaconda-cloud": {},
  "kernelspec": {
   "display_name": "Python [default]",
   "language": "python",
   "name": "python3"
  },
  "language_info": {
   "codemirror_mode": {
    "name": "ipython",
    "version": 3
   },
   "file_extension": ".py",
   "mimetype": "text/x-python",
   "name": "python",
   "nbconvert_exporter": "python",
   "pygments_lexer": "ipython3",
   "version": "3.5.2"
  }
 },
 "nbformat": 4,
 "nbformat_minor": 1
}
