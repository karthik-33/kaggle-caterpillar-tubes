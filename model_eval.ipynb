{
 "cells": [
  {
   "cell_type": "markdown",
   "metadata": {},
   "source": [
    "## Objective: Build and evaluate models"
   ]
  },
  {
   "cell_type": "code",
   "execution_count": 1,
   "metadata": {},
   "outputs": [],
   "source": [
    "import pandas as pd\n",
    "import numpy as np\n",
    "from sklearn.linear_model import LinearRegression, Lasso\n",
    "from sklearn.decomposition import PCA\n",
    "from sklearn.preprocessing import scale\n",
    "from sklearn.model_selection import cross_val_score, train_test_split\n",
    "from sklearn.model_selection import GridSearchCV\n",
    "from sklearn.ensemble import RandomForestRegressor\n",
    "from sklearn.ensemble import GradientBoostingRegressor\n",
    "from sklearn.metrics import mean_squared_error, r2_score\n",
    "import matplotlib.pyplot as plt\n",
    "%matplotlib inline"
   ]
  },
  {
   "cell_type": "code",
   "execution_count": 2,
   "metadata": {},
   "outputs": [],
   "source": [
    "df3 = pd.read_csv(\"../data_tables/supplier_cleaned_final.csv\")"
   ]
  },
  {
   "cell_type": "code",
   "execution_count": 3,
   "metadata": {
    "collapsed": true
   },
   "outputs": [],
   "source": [
    "y = df3[\"cost\"]\n",
    "del df3[\"cost\"]"
   ]
  },
  {
   "cell_type": "code",
   "execution_count": 4,
   "metadata": {
    "collapsed": true
   },
   "outputs": [],
   "source": [
    "X_train, X_test, y_train, y_test = train_test_split(df3, y, test_size = 0.3)"
   ]
  },
  {
   "cell_type": "code",
   "execution_count": 5,
   "metadata": {},
   "outputs": [],
   "source": [
    "# Change y to log (y+1)\n",
    "y_train = np.log(y_train + 1)\n",
    "y_test = np.log(y_test + 1)"
   ]
  },
  {
   "cell_type": "code",
   "execution_count": 6,
   "metadata": {
    "collapsed": true
   },
   "outputs": [
    {
     "name": "stderr",
     "output_type": "stream",
     "text": [
      "C:\\Program Files\\Anaconda3\\lib\\site-packages\\ipykernel\\__main__.py:2: SettingWithCopyWarning: \n",
      "A value is trying to be set on a copy of a slice from a DataFrame.\n",
      "Try using .loc[row_indexer,col_indexer] = value instead\n",
      "\n",
      "See the caveats in the documentation: http://pandas.pydata.org/pandas-docs/stable/indexing.html#indexing-view-versus-copy\n",
      "  from ipykernel import kernelapp as app\n",
      "C:\\Program Files\\Anaconda3\\lib\\site-packages\\ipykernel\\__main__.py:3: SettingWithCopyWarning: \n",
      "A value is trying to be set on a copy of a slice from a DataFrame.\n",
      "Try using .loc[row_indexer,col_indexer] = value instead\n",
      "\n",
      "See the caveats in the documentation: http://pandas.pydata.org/pandas-docs/stable/indexing.html#indexing-view-versus-copy\n",
      "  app.launch_new_instance()\n"
     ]
    }
   ],
   "source": [
    "# Change qty to log(qty)\n",
    "X_train[\"revised_qty\"] = np.log(X_train[\"revised_qty\"])\n",
    "X_test[\"revised_qty\"] = np.log(X_test[\"revised_qty\"])"
   ]
  },
  {
   "cell_type": "code",
   "execution_count": 7,
   "metadata": {},
   "outputs": [],
   "source": [
    "del X_train[\"Unnamed: 0\"]\n",
    "del X_test[\"Unnamed: 0\"]"
   ]
  },
  {
   "cell_type": "code",
   "execution_count": 8,
   "metadata": {},
   "outputs": [],
   "source": [
    "def make_plot(y_true, y_pred, name):\n",
    "    plt.xlabel(\"Actual price\")\n",
    "    plt.ylabel(\"Predicted price\")\n",
    "    plt.title(name+\" on test set\")\n",
    "    plt.scatter(np.exp(y_true)-1, np.exp(y_pred)-1)\n",
    "    plt.plot((0,7), (0, 7), linestyle = \"--\", color = \"blue\")\n",
    "    plt.show()"
   ]
  },
  {
   "cell_type": "code",
   "execution_count": 9,
   "metadata": {
    "collapsed": true
   },
   "outputs": [],
   "source": [
    "# Function for all base models\n",
    "def base_model(model, name, X_train, X_test, y_train, y_test):\n",
    "    \"Base model characteristics\"\n",
    "    \n",
    "    model.fit(X_train, y_train)\n",
    "    \n",
    "    # R2 Predictions\n",
    "    y_pred_train = model.predict(X_train)\n",
    "    y_pred_test = model.predict(X_test)\n",
    "    print(name, \"R2 training: \", r2_score(y_train, y_pred_train))\n",
    "    print(name, \"R2 test: \", r2_score(y_test, y_pred_test))\n",
    "    \n",
    "    # RMSLE\n",
    "    sle = np.power((y_pred_test - y_test), 2)\n",
    "    msle = np.mean(sle)\n",
    "    rmsle = np.sqrt(msle)\n",
    "    print(name, \"RMSLE test: \", rmsle)\n",
    "    \n",
    "    # CV scores\n",
    "    scores = cross_val_score(model, X_train, y_train, cv = 5)\n",
    "    print(name, \"CV Score: \", scores.mean(), \"+/-\", scores.std())\n",
    "    \n",
    "    # Plot\n",
    "#    make_plot(y_test, y_pred_test, name)"
   ]
  },
  {
   "cell_type": "code",
   "execution_count": 10,
   "metadata": {
    "collapsed": true
   },
   "outputs": [],
   "source": [
    "# Function for all grid search models\n",
    "def gs_model(model, name, X_train, X_test, y_train, y_test):\n",
    "    \n",
    "    # Execute GridSearch\n",
    "    model.fit(X_train, y_train)\n",
    "    print(\"Best score: \", model.best_score_)\n",
    "    print(\"Best params: \", model.best_params_)\n",
    "    \n",
    "    # Predicted values\n",
    "    y_pred_test = model.predict(X_test)\n",
    "    print(name, \"R2 test: \", r2_score(y_test, y_pred_test))\n",
    "    sle = np.power((y_pred_test - y_test), 2)\n",
    "    msle = np.mean(sle)\n",
    "    rmsle = np.sqrt(msle)\n",
    "    print(name, \"RMSLE test: \", rmsle)\n",
    "    \n",
    "#    make_plot(y_test, y_pred_test, name)"
   ]
  },
  {
   "cell_type": "code",
   "execution_count": 11,
   "metadata": {
    "collapsed": true
   },
   "outputs": [],
   "source": [
    "X_train_tree = X_train\n",
    "X_test_tree = X_test"
   ]
  },
  {
   "cell_type": "code",
   "execution_count": 12,
   "metadata": {
    "collapsed": true
   },
   "outputs": [],
   "source": [
    "Xs_train_tree = scale(X_train_tree)\n",
    "Xs_test_tree = scale(X_test_tree)"
   ]
  },
  {
   "cell_type": "markdown",
   "metadata": {},
   "source": [
    "## Random Forest"
   ]
  },
  {
   "cell_type": "code",
   "execution_count": 30,
   "metadata": {},
   "outputs": [
    {
     "name": "stdout",
     "output_type": "stream",
     "text": [
      "Random Forest R2 training:  0.984758918257\n",
      "Random Forest R2 test:  0.769864748388\n",
      "Random Forest RMSLE test:  0.394448272771\n",
      "Random Forest CV Score:  0.896896211138 +/- 0.0046088708614\n"
     ]
    }
   ],
   "source": [
    "# Base model\n",
    "rfr = RandomForestRegressor(n_estimators = 150, min_samples_leaf = 1, min_samples_split = 3)\n",
    "base_model(rfr, \"Random Forest\", Xs_train_tree, Xs_test_tree, y_train, y_test)"
   ]
  },
  {
   "cell_type": "code",
   "execution_count": null,
   "metadata": {
    "collapsed": true
   },
   "outputs": [],
   "source": [
    "# GridSearch model\n",
    "params = {\"min_samples_leaf\": [1, 3, 5, 10],\n",
    "          \"n_estimators\": [100, 150, 200, 250],\n",
    "          \"max_depth\": [10, 20, 30, 40, None],\n",
    "          'min_samples_split': [3, 5, 7, 10],\n",
    "          }\n",
    "    \n",
    "gsrfr = GridSearchCV(RandomForestRegressor(), params, n_jobs = -1, cv=3)"
   ]
  },
  {
   "cell_type": "code",
   "execution_count": null,
   "metadata": {
    "collapsed": true
   },
   "outputs": [],
   "source": [
    "gs_model(gsrfr, \"Grid Search Random Forest\", X_train_tree, X_test_tree, y_train, y_test)"
   ]
  },
  {
   "cell_type": "markdown",
   "metadata": {},
   "source": [
    "## Extreme Gradient Boosting (xgboost)"
   ]
  },
  {
   "cell_type": "code",
   "execution_count": 14,
   "metadata": {},
   "outputs": [],
   "source": [
    "import os\n",
    "mingw_path = \"C:\\\\Program Files\\\\mingw-w64\\\\x86_64-6.3.0-posix-seh-rt_v5-rev1\\\\mingw64\\\\bin\"\n",
    "os.environ['PATH'] = mingw_path + ';' + os.environ['PATH']\n",
    "import xgboost as xgb"
   ]
  },
  {
   "cell_type": "code",
   "execution_count": 28,
   "metadata": {},
   "outputs": [
    {
     "name": "stdout",
     "output_type": "stream",
     "text": [
      "XGBoost Regressor R2 training:  0.931716070355\n",
      "XGBoost Regressor R2 test:  0.804137841598\n",
      "XGBoost Regressor RMSLE test:  0.363893043017\n",
      "XGBoost Regressor CV Score:  0.893613440301 +/- 0.0027265664672\n"
     ]
    }
   ],
   "source": [
    "xgbr2 = xgb.XGBRegressor(max_depth=6, learning_rate=0.1, n_estimators=200, subsample = 0.5, gamma = 1, min_child_weight = 2)\n",
    "base_model(xgbr2, \"XGBoost Regressor\", Xs_train_tree, Xs_test_tree, y_train, y_test)"
   ]
  },
  {
   "cell_type": "code",
   "execution_count": 13,
   "metadata": {
    "collapsed": true
   },
   "outputs": [],
   "source": [
    "# GridSearch model\n",
    "params = {\"max_depth\": [6, 8, 10],\n",
    "          \"n_estimators\": [100, 150, 200],\n",
    "          \"subsample\": [0.5, 0.75, 1],\n",
    "          'gamma': [0, 1, 2],\n",
    "          'min_child_weight': [0, 1, 2],\n",
    "          \"learning_rate\": [0.01, 0.1, 0.2]\n",
    "          }\n",
    "    \n",
    "gsxgbr = GridSearchCV(xgb.XGBRegressor(), params, cv=3)"
   ]
  },
  {
   "cell_type": "code",
   "execution_count": 14,
   "metadata": {},
   "outputs": [
    {
     "name": "stdout",
     "output_type": "stream",
     "text": [
      "Best score:  0.913712935984\n",
      "Best params:  {'gamma': 0, 'max_depth': 8, 'n_estimators': 200, 'subsample': 1, 'learning_rate': 0.2, 'min_child_weight': 2}\n",
      "Grid Search xgboost R2 test:  0.934321068511\n",
      "Grid Search xgboost RMSLE test:  0.211866066053\n"
     ]
    }
   ],
   "source": [
    "gs_model(gsxgbr, \"Grid Search xgboost\", X_train_tree, X_test_tree, y_train, y_test)"
   ]
  },
  {
   "cell_type": "code",
   "execution_count": 15,
   "metadata": {},
   "outputs": [],
   "source": [
    "xgbr = xgb.XGBRegressor(max_depth=8, learning_rate=0.2, n_estimators=200, subsample = 1, gamma = 0, min_child_weight = 2)"
   ]
  },
  {
   "cell_type": "code",
   "execution_count": 16,
   "metadata": {},
   "outputs": [
    {
     "data": {
      "text/plain": [
       "XGBRegressor(base_score=0.5, colsample_bylevel=1, colsample_bytree=1, gamma=0,\n",
       "       learning_rate=0.2, max_delta_step=0, max_depth=8,\n",
       "       min_child_weight=2, missing=None, n_estimators=200, nthread=-1,\n",
       "       objective='reg:linear', reg_alpha=0, reg_lambda=1,\n",
       "       scale_pos_weight=1, seed=0, silent=True, subsample=1)"
      ]
     },
     "execution_count": 16,
     "metadata": {},
     "output_type": "execute_result"
    }
   ],
   "source": [
    "xgbr.fit(X_train_tree, y_train)"
   ]
  },
  {
   "cell_type": "code",
   "execution_count": 17,
   "metadata": {},
   "outputs": [
    {
     "data": {
      "image/png": "[encoded data removed]",
      "text/plain": [
       "<matplotlib.figure.Figure at 0x203ace87ef0>"
      ]
     },
     "metadata": {},
     "output_type": "display_data"
    }
   ],
   "source": [
    "xgb_fi = xgb.plot_importance(xgbr, max_num_features = 10)"
   ]
  },
  {
   "cell_type": "markdown",
   "metadata": {},
   "source": [
    "## from AWS (GS RF FINAL)"
   ]
  },
  {
   "cell_type": "markdown",
   "metadata": {},
   "source": [
    "Best score:  0.885644436664\n",
    "Best params:  {'n_estimators': 150, 'min_samples_leaf': 1, 'min_samples_split': 3, 'max_depth': None}\n",
    "Grid Search Random Forest R2 test:  0.900841214003\n",
    "Grid Search Random Forest RMSLE test:  0.260026548862"
   ]
  }
 ],
 "metadata": {
  "anaconda-cloud": {},
  "kernelspec": {
   "display_name": "Python 3",
   "language": "python",
   "name": "python3"
  },
  "language_info": {
   "codemirror_mode": {
    "name": "ipython",
    "version": 3
   },
   "file_extension": ".py",
   "mimetype": "text/x-python",
   "name": "python",
   "nbconvert_exporter": "python",
   "pygments_lexer": "ipython3",
   "version": "3.6.4"
  }
 },
 "nbformat": 4,
 "nbformat_minor": 1
}
