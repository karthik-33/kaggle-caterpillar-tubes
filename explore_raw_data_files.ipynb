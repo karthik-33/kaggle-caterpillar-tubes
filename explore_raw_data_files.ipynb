{
 "cells": [
  {
   "cell_type": "markdown",
   "metadata": {},
   "source": [
    "## Objective: Figure out what's in the raw data files?"
   ]
  },
  {
   "cell_type": "code",
   "execution_count": 1,
   "metadata": {
    "collapsed": true
   },
   "outputs": [],
   "source": [
    "import pandas as pd"
   ]
  },
  {
   "cell_type": "markdown",
   "metadata": {},
   "source": [
    "## train_set"
   ]
  },
  {
   "cell_type": "code",
   "execution_count": 2,
   "metadata": {
    "collapsed": true
   },
   "outputs": [],
   "source": [
    "df_ts = pd.read_csv(\"raw_data/train_set.csv\")"
   ]
  },
  {
   "cell_type": "code",
   "execution_count": 3,
   "metadata": {
    "collapsed": false
   },
   "outputs": [
    {
     "data": {
      "text/plain": [
       "8855"
      ]
     },
     "execution_count": 3,
     "metadata": {},
     "output_type": "execute_result"
    }
   ],
   "source": [
    "len(df_ts[\"tube_assembly_id\"].unique())"
   ]
  },
  {
   "cell_type": "code",
   "execution_count": 3,
   "metadata": {
    "collapsed": true
   },
   "outputs": [],
   "source": [
    "def df_details(df):\n",
    "    print(df.head(5))\n",
    "    print('\\n')\n",
    "    print(\"Shape: \", df.shape)\n",
    "    print(df.dtypes)\n",
    "    for col in df.columns:\n",
    "        if df[col].isnull().any() == True:\n",
    "            print(col, \" has nulls\")"
   ]
  },
  {
   "cell_type": "code",
   "execution_count": 4,
   "metadata": {
    "collapsed": false
   },
   "outputs": [
    {
     "name": "stdout",
     "output_type": "stream",
     "text": [
      "  tube_assembly_id supplier  quote_date  annual_usage  min_order_quantity  \\\n",
      "0         TA-00002   S-0066  2013-07-07             0                   0   \n",
      "1         TA-00002   S-0066  2013-07-07             0                   0   \n",
      "2         TA-00002   S-0066  2013-07-07             0                   0   \n",
      "3         TA-00002   S-0066  2013-07-07             0                   0   \n",
      "4         TA-00002   S-0066  2013-07-07             0                   0   \n",
      "\n",
      "  bracket_pricing  quantity       cost  \n",
      "0             Yes         1  21.905933  \n",
      "1             Yes         2  12.341214  \n",
      "2             Yes         5   6.601826  \n",
      "3             Yes        10   4.687770  \n",
      "4             Yes        25   3.541561  \n",
      "\n",
      "\n",
      "Shape:  (30213, 8)\n",
      "tube_assembly_id       object\n",
      "supplier               object\n",
      "quote_date             object\n",
      "annual_usage            int64\n",
      "min_order_quantity      int64\n",
      "bracket_pricing        object\n",
      "quantity                int64\n",
      "cost                  float64\n",
      "dtype: object\n"
     ]
    }
   ],
   "source": [
    "df_details(df_ts)"
   ]
  },
  {
   "cell_type": "code",
   "execution_count": 25,
   "metadata": {
    "collapsed": false
   },
   "outputs": [
    {
     "data": {
      "text/plain": [
       "(3930, 8)"
      ]
     },
     "execution_count": 25,
     "metadata": {},
     "output_type": "execute_result"
    }
   ],
   "source": [
    "df_ts[df_ts[\"bracket_pricing\"] == \"No\"].shape"
   ]
  },
  {
   "cell_type": "code",
   "execution_count": 28,
   "metadata": {
    "collapsed": false
   },
   "outputs": [
    {
     "data": {
      "text/html": [
       "<div>\n",
       "<table border=\"1\" class=\"dataframe\">\n",
       "  <thead>\n",
       "    <tr style=\"text-align: right;\">\n",
       "      <th></th>\n",
       "      <th>tube_assembly_id</th>\n",
       "      <th>supplier</th>\n",
       "      <th>quote_date</th>\n",
       "      <th>annual_usage</th>\n",
       "      <th>min_order_quantity</th>\n",
       "      <th>bracket_pricing</th>\n",
       "      <th>quantity</th>\n",
       "      <th>cost</th>\n",
       "    </tr>\n",
       "  </thead>\n",
       "  <tbody>\n",
       "    <tr>\n",
       "      <th>0</th>\n",
       "      <td>TA-00002</td>\n",
       "      <td>S-0066</td>\n",
       "      <td>2013-07-07</td>\n",
       "      <td>0</td>\n",
       "      <td>0</td>\n",
       "      <td>Yes</td>\n",
       "      <td>1</td>\n",
       "      <td>21.905933</td>\n",
       "    </tr>\n",
       "    <tr>\n",
       "      <th>1</th>\n",
       "      <td>TA-00002</td>\n",
       "      <td>S-0066</td>\n",
       "      <td>2013-07-07</td>\n",
       "      <td>0</td>\n",
       "      <td>0</td>\n",
       "      <td>Yes</td>\n",
       "      <td>2</td>\n",
       "      <td>12.341214</td>\n",
       "    </tr>\n",
       "    <tr>\n",
       "      <th>2</th>\n",
       "      <td>TA-00002</td>\n",
       "      <td>S-0066</td>\n",
       "      <td>2013-07-07</td>\n",
       "      <td>0</td>\n",
       "      <td>0</td>\n",
       "      <td>Yes</td>\n",
       "      <td>5</td>\n",
       "      <td>6.601826</td>\n",
       "    </tr>\n",
       "    <tr>\n",
       "      <th>3</th>\n",
       "      <td>TA-00002</td>\n",
       "      <td>S-0066</td>\n",
       "      <td>2013-07-07</td>\n",
       "      <td>0</td>\n",
       "      <td>0</td>\n",
       "      <td>Yes</td>\n",
       "      <td>10</td>\n",
       "      <td>4.687770</td>\n",
       "    </tr>\n",
       "    <tr>\n",
       "      <th>4</th>\n",
       "      <td>TA-00002</td>\n",
       "      <td>S-0066</td>\n",
       "      <td>2013-07-07</td>\n",
       "      <td>0</td>\n",
       "      <td>0</td>\n",
       "      <td>Yes</td>\n",
       "      <td>25</td>\n",
       "      <td>3.541561</td>\n",
       "    </tr>\n",
       "    <tr>\n",
       "      <th>5</th>\n",
       "      <td>TA-00002</td>\n",
       "      <td>S-0066</td>\n",
       "      <td>2013-07-07</td>\n",
       "      <td>0</td>\n",
       "      <td>0</td>\n",
       "      <td>Yes</td>\n",
       "      <td>50</td>\n",
       "      <td>3.224406</td>\n",
       "    </tr>\n",
       "    <tr>\n",
       "      <th>6</th>\n",
       "      <td>TA-00002</td>\n",
       "      <td>S-0066</td>\n",
       "      <td>2013-07-07</td>\n",
       "      <td>0</td>\n",
       "      <td>0</td>\n",
       "      <td>Yes</td>\n",
       "      <td>100</td>\n",
       "      <td>3.082521</td>\n",
       "    </tr>\n",
       "    <tr>\n",
       "      <th>7</th>\n",
       "      <td>TA-00002</td>\n",
       "      <td>S-0066</td>\n",
       "      <td>2013-07-07</td>\n",
       "      <td>0</td>\n",
       "      <td>0</td>\n",
       "      <td>Yes</td>\n",
       "      <td>250</td>\n",
       "      <td>2.999060</td>\n",
       "    </tr>\n",
       "  </tbody>\n",
       "</table>\n",
       "</div>"
      ],
      "text/plain": [
       "  tube_assembly_id supplier  quote_date  annual_usage  min_order_quantity  \\\n",
       "0         TA-00002   S-0066  2013-07-07             0                   0   \n",
       "1         TA-00002   S-0066  2013-07-07             0                   0   \n",
       "2         TA-00002   S-0066  2013-07-07             0                   0   \n",
       "3         TA-00002   S-0066  2013-07-07             0                   0   \n",
       "4         TA-00002   S-0066  2013-07-07             0                   0   \n",
       "5         TA-00002   S-0066  2013-07-07             0                   0   \n",
       "6         TA-00002   S-0066  2013-07-07             0                   0   \n",
       "7         TA-00002   S-0066  2013-07-07             0                   0   \n",
       "\n",
       "  bracket_pricing  quantity       cost  \n",
       "0             Yes         1  21.905933  \n",
       "1             Yes         2  12.341214  \n",
       "2             Yes         5   6.601826  \n",
       "3             Yes        10   4.687770  \n",
       "4             Yes        25   3.541561  \n",
       "5             Yes        50   3.224406  \n",
       "6             Yes       100   3.082521  \n",
       "7             Yes       250   2.999060  "
      ]
     },
     "execution_count": 28,
     "metadata": {},
     "output_type": "execute_result"
    }
   ],
   "source": [
    "df_ts[:8]"
   ]
  },
  {
   "cell_type": "markdown",
   "metadata": {},
   "source": [
    "## test_set"
   ]
  },
  {
   "cell_type": "code",
   "execution_count": 23,
   "metadata": {
    "collapsed": true
   },
   "outputs": [],
   "source": [
    "df_test = pd.read_csv(\"raw_data/test_set.csv\")"
   ]
  },
  {
   "cell_type": "code",
   "execution_count": 24,
   "metadata": {
    "collapsed": false
   },
   "outputs": [
    {
     "name": "stdout",
     "output_type": "stream",
     "text": [
      "   id tube_assembly_id supplier  quote_date  annual_usage  min_order_quantity  \\\n",
      "0   1         TA-00001   S-0066  2013-06-23             0                   0   \n",
      "\n",
      "  bracket_pricing  quantity  \n",
      "0             Yes         1  \n",
      "\n",
      "\n",
      "Shape:  (30235, 8)\n",
      "id                     int64\n",
      "tube_assembly_id      object\n",
      "supplier              object\n",
      "quote_date            object\n",
      "annual_usage           int64\n",
      "min_order_quantity     int64\n",
      "bracket_pricing       object\n",
      "quantity               int64\n",
      "dtype: object\n"
     ]
    }
   ],
   "source": [
    "df_details(df_test)"
   ]
  },
  {
   "cell_type": "markdown",
   "metadata": {},
   "source": [
    "## bill_of_materials"
   ]
  },
  {
   "cell_type": "code",
   "execution_count": 25,
   "metadata": {
    "collapsed": true
   },
   "outputs": [],
   "source": [
    "df_bom = pd.read_csv(\"raw_data/bill_of_materials.csv\")"
   ]
  },
  {
   "cell_type": "code",
   "execution_count": 26,
   "metadata": {
    "collapsed": false
   },
   "outputs": [
    {
     "name": "stdout",
     "output_type": "stream",
     "text": [
      "  tube_assembly_id component_id_1  quantity_1 component_id_2  quantity_2  \\\n",
      "0         TA-00001         C-1622         2.0         C-1629         2.0   \n",
      "\n",
      "  component_id_3  quantity_3 component_id_4  quantity_4 component_id_5  \\\n",
      "0            NaN         NaN            NaN         NaN            NaN   \n",
      "\n",
      "   quantity_5 component_id_6  quantity_6 component_id_7  quantity_7  \\\n",
      "0         NaN            NaN         NaN            NaN         NaN   \n",
      "\n",
      "  component_id_8  quantity_8  \n",
      "0            NaN         NaN  \n",
      "\n",
      "\n",
      "Shape:  (21198, 17)\n",
      "tube_assembly_id     object\n",
      "component_id_1       object\n",
      "quantity_1          float64\n",
      "component_id_2       object\n",
      "quantity_2          float64\n",
      "component_id_3       object\n",
      "quantity_3          float64\n",
      "component_id_4       object\n",
      "quantity_4          float64\n",
      "component_id_5       object\n",
      "quantity_5          float64\n",
      "component_id_6       object\n",
      "quantity_6          float64\n",
      "component_id_7       object\n",
      "quantity_7          float64\n",
      "component_id_8       object\n",
      "quantity_8          float64\n",
      "dtype: object\n",
      "component_id_1  has nulls\n",
      "quantity_1  has nulls\n",
      "component_id_2  has nulls\n",
      "quantity_2  has nulls\n",
      "component_id_3  has nulls\n",
      "quantity_3  has nulls\n",
      "component_id_4  has nulls\n",
      "quantity_4  has nulls\n",
      "component_id_5  has nulls\n",
      "quantity_5  has nulls\n",
      "component_id_6  has nulls\n",
      "quantity_6  has nulls\n",
      "component_id_7  has nulls\n",
      "quantity_7  has nulls\n",
      "component_id_8  has nulls\n",
      "quantity_8  has nulls\n"
     ]
    }
   ],
   "source": [
    "df_details(df_bom)"
   ]
  },
  {
   "cell_type": "markdown",
   "metadata": {},
   "source": [
    "## components"
   ]
  },
  {
   "cell_type": "code",
   "execution_count": 4,
   "metadata": {
    "collapsed": true
   },
   "outputs": [],
   "source": [
    "df_comp = pd.read_csv(\"raw_data/components.csv\")"
   ]
  },
  {
   "cell_type": "code",
   "execution_count": 5,
   "metadata": {
    "collapsed": false
   },
   "outputs": [
    {
     "data": {
      "text/plain": [
       "2048"
      ]
     },
     "execution_count": 5,
     "metadata": {},
     "output_type": "execute_result"
    }
   ],
   "source": [
    "len(df_comp[\"component_id\"].unique())"
   ]
  },
  {
   "cell_type": "code",
   "execution_count": 20,
   "metadata": {
    "collapsed": false
   },
   "outputs": [
    {
     "name": "stdout",
     "output_type": "stream",
     "text": [
      "  component_id           name component_type_id\n",
      "0         9999          OTHER             OTHER\n",
      "1       C-0001         SLEEVE            CP-024\n",
      "2       C-0002         SLEEVE            CP-024\n",
      "3       C-0003  SLEEVE-FLARED            CP-024\n",
      "4       C-0004            NUT            CP-026\n",
      "\n",
      "\n",
      "Shape:  (2048, 3)\n",
      "component_id         object\n",
      "name                 object\n",
      "component_type_id    object\n",
      "dtype: object\n",
      "name  has nulls\n"
     ]
    }
   ],
   "source": [
    "df_details(df_comp)"
   ]
  },
  {
   "cell_type": "code",
   "execution_count": 35,
   "metadata": {
    "collapsed": false
   },
   "outputs": [
    {
     "data": {
      "text/plain": [
       "array(['OTHER', 'CP-024', 'CP-026', 'CP-028', 'CP-014', 'CP-018', 'CP-001',\n",
       "       'CP-008', 'CP-009', 'CP-002', 'CP-010', 'CP-021', 'CP-011',\n",
       "       'CP-015', 'CP-027', 'CP-003', 'CP-004', 'CP-005', 'CP-019',\n",
       "       'CP-025', 'CP-006', 'CP-016', 'CP-020', 'CP-012', 'CP-022',\n",
       "       'CP-007', 'CP-017', 'CP-023', 'CP-029'], dtype=object)"
      ]
     },
     "execution_count": 35,
     "metadata": {},
     "output_type": "execute_result"
    }
   ],
   "source": [
    "df_comp[\"component_type_id\"].unique()"
   ]
  },
  {
   "cell_type": "code",
   "execution_count": 12,
   "metadata": {
    "collapsed": false
   },
   "outputs": [
    {
     "data": {
      "text/plain": [
       "array(['OTHER', 'CP-024', 'CP-026', 'CP-028', 'CP-014', 'CP-018', 'CP-001',\n",
       "       'CP-008', 'CP-009', 'CP-002', 'CP-010', 'CP-021', 'CP-011',\n",
       "       'CP-015', 'CP-027', 'CP-003', 'CP-004', 'CP-005', 'CP-019',\n",
       "       'CP-025', 'CP-006', 'CP-016', 'CP-020', 'CP-012', 'CP-022',\n",
       "       'CP-007', 'CP-017', 'CP-023', 'CP-029'], dtype=object)"
      ]
     },
     "execution_count": 12,
     "metadata": {},
     "output_type": "execute_result"
    }
   ],
   "source": [
    "(df_comp.component_type_id.unique())"
   ]
  },
  {
   "cell_type": "markdown",
   "metadata": {},
   "source": [
    "## tube"
   ]
  },
  {
   "cell_type": "code",
   "execution_count": 31,
   "metadata": {
    "collapsed": true
   },
   "outputs": [],
   "source": [
    "df_tube = pd.read_csv(\"raw_data/tube.csv\")"
   ]
  },
  {
   "cell_type": "code",
   "execution_count": 32,
   "metadata": {
    "collapsed": false
   },
   "outputs": [
    {
     "name": "stdout",
     "output_type": "stream",
     "text": [
      "  tube_assembly_id material_id  diameter  wall  length  num_bends  \\\n",
      "0         TA-00001     SP-0035     12.70  1.65   164.0          5   \n",
      "1         TA-00002     SP-0019      6.35  0.71   137.0          8   \n",
      "2         TA-00003     SP-0019      6.35  0.71   127.0          7   \n",
      "3         TA-00004     SP-0019      6.35  0.71   137.0          9   \n",
      "4         TA-00005     SP-0029     19.05  1.24   109.0          4   \n",
      "\n",
      "   bend_radius end_a_1x end_a_2x end_x_1x end_x_2x   end_a   end_x  num_boss  \\\n",
      "0        38.10        N        N        N        N  EF-003  EF-003         0   \n",
      "1        19.05        N        N        N        N  EF-008  EF-008         0   \n",
      "2        19.05        N        N        N        N  EF-008  EF-008         0   \n",
      "3        19.05        N        N        N        N  EF-008  EF-008         0   \n",
      "4        50.80        N        N        N        N  EF-003  EF-003         0   \n",
      "\n",
      "   num_bracket  other  \n",
      "0            0      0  \n",
      "1            0      0  \n",
      "2            0      0  \n",
      "3            0      0  \n",
      "4            0      0  \n",
      "\n",
      "\n",
      "Shape:  (21198, 16)\n",
      "tube_assembly_id     object\n",
      "material_id          object\n",
      "diameter            float64\n",
      "wall                float64\n",
      "length              float64\n",
      "num_bends             int64\n",
      "bend_radius         float64\n",
      "end_a_1x             object\n",
      "end_a_2x             object\n",
      "end_x_1x             object\n",
      "end_x_2x             object\n",
      "end_a                object\n",
      "end_x                object\n",
      "num_boss              int64\n",
      "num_bracket           int64\n",
      "other                 int64\n",
      "dtype: object\n",
      "material_id  has nulls\n"
     ]
    }
   ],
   "source": [
    "df_details(df_tube)"
   ]
  },
  {
   "cell_type": "markdown",
   "metadata": {},
   "source": [
    "## comp_straight"
   ]
  },
  {
   "cell_type": "code",
   "execution_count": 33,
   "metadata": {
    "collapsed": true
   },
   "outputs": [],
   "source": [
    "df_comp_str = pd.read_csv(\"raw_data/comp_straight.csv\")"
   ]
  },
  {
   "cell_type": "code",
   "execution_count": 34,
   "metadata": {
    "collapsed": false
   },
   "outputs": [
    {
     "name": "stdout",
     "output_type": "stream",
     "text": [
      "  component_id component_type_id  bolt_pattern_long  bolt_pattern_wide  \\\n",
      "0       C-0012            CP-001              66.68              31.75   \n",
      "1       C-0014            CP-001              47.60              22.20   \n",
      "2       C-0015            CP-001              66.70              31.80   \n",
      "3       C-0019            CP-002              77.80              42.90   \n",
      "4       C-0029            CP-001              47.63              22.23   \n",
      "\n",
      "   head_diameter  overall_length  thickness mj_class_code groove  \\\n",
      "0            NaN            40.0       20.0           NaN     No   \n",
      "1            NaN            38.0       15.0           NaN    Yes   \n",
      "2            NaN            40.0       20.0           NaN    Yes   \n",
      "3            NaN             NaN       36.5        MJ-003     No   \n",
      "4            NaN             NaN       16.0           NaN    Yes   \n",
      "\n",
      "  unique_feature orientation  weight  \n",
      "0             No         Yes   0.788  \n",
      "1             No         Yes   0.339  \n",
      "2             No         Yes   0.788  \n",
      "3             No         Yes   1.533  \n",
      "4             No         Yes   0.286  \n",
      "\n",
      "\n",
      "Shape:  (361, 12)\n",
      "component_id          object\n",
      "component_type_id     object\n",
      "bolt_pattern_long    float64\n",
      "bolt_pattern_wide    float64\n",
      "head_diameter        float64\n",
      "overall_length       float64\n",
      "thickness            float64\n",
      "mj_class_code         object\n",
      "groove                object\n",
      "unique_feature        object\n",
      "orientation           object\n",
      "weight               float64\n",
      "dtype: object\n",
      "bolt_pattern_long  has nulls\n",
      "bolt_pattern_wide  has nulls\n",
      "head_diameter  has nulls\n",
      "overall_length  has nulls\n",
      "mj_class_code  has nulls\n",
      "weight  has nulls\n"
     ]
    }
   ],
   "source": [
    "df_details(df_comp_str)"
   ]
  },
  {
   "cell_type": "markdown",
   "metadata": {},
   "source": [
    "## comp_boss"
   ]
  },
  {
   "cell_type": "code",
   "execution_count": 35,
   "metadata": {
    "collapsed": true
   },
   "outputs": [],
   "source": [
    "df_comp_boss = pd.read_csv(\"raw_data/comp_boss.csv\")"
   ]
  },
  {
   "cell_type": "code",
   "execution_count": 36,
   "metadata": {
    "collapsed": false
   },
   "outputs": [
    {
     "name": "stdout",
     "output_type": "stream",
     "text": [
      "  component_id component_type_id  type connection_type_id outside_shape  \\\n",
      "0       C-0008            CP-018  Boss              B-005         Round   \n",
      "1       C-0009            CP-018  Boss              B-004         Round   \n",
      "2       C-0020            CP-018  Boss              B-005         Round   \n",
      "3       C-0054            CP-018  Boss              B-005         Round   \n",
      "4       C-0071            CP-018  Boss              B-005         Round   \n",
      "\n",
      "     base_type  height_over_tube  bolt_pattern_long  bolt_pattern_wide groove  \\\n",
      "0  Flat Bottom              17.0                NaN                NaN     No   \n",
      "1  Flat Bottom              13.0                NaN                NaN     No   \n",
      "2       Saddle              28.4                NaN                NaN     No   \n",
      "3       Saddle              27.1                NaN                NaN     No   \n",
      "4     Shoulder              20.0                NaN                NaN     No   \n",
      "\n",
      "   base_diameter  shoulder_diameter unique_feature orientation  weight  \n",
      "0           22.0                NaN            Yes         Yes   0.032  \n",
      "1           25.0                NaN             No         Yes   0.033  \n",
      "2           35.0                NaN            Yes         Yes   0.070  \n",
      "3            NaN                NaN            Yes         Yes   0.180  \n",
      "4           30.0               23.0            Yes         Yes   0.080  \n",
      "\n",
      "\n",
      "Shape:  (147, 15)\n",
      "component_id           object\n",
      "component_type_id      object\n",
      "type                   object\n",
      "connection_type_id     object\n",
      "outside_shape          object\n",
      "base_type              object\n",
      "height_over_tube      float64\n",
      "bolt_pattern_long     float64\n",
      "bolt_pattern_wide     float64\n",
      "groove                 object\n",
      "base_diameter         float64\n",
      "shoulder_diameter     float64\n",
      "unique_feature         object\n",
      "orientation            object\n",
      "weight                float64\n",
      "dtype: object\n",
      "type  has nulls\n",
      "outside_shape  has nulls\n",
      "base_type  has nulls\n",
      "bolt_pattern_long  has nulls\n",
      "bolt_pattern_wide  has nulls\n",
      "base_diameter  has nulls\n",
      "shoulder_diameter  has nulls\n",
      "weight  has nulls\n"
     ]
    }
   ],
   "source": [
    "df_details(df_comp_boss)"
   ]
  },
  {
   "cell_type": "markdown",
   "metadata": {},
   "source": [
    "## "
   ]
  },
  {
   "cell_type": "code",
   "execution_count": null,
   "metadata": {
    "collapsed": true
   },
   "outputs": [],
   "source": []
  },
  {
   "cell_type": "code",
   "execution_count": null,
   "metadata": {
    "collapsed": true
   },
   "outputs": [],
   "source": []
  },
  {
   "cell_type": "markdown",
   "metadata": {},
   "source": [
    "## comp_adaptor"
   ]
  },
  {
   "cell_type": "code",
   "execution_count": 45,
   "metadata": {
    "collapsed": true
   },
   "outputs": [],
   "source": [
    "df_comp_ad = pd.read_csv(\"raw_data/comp_adaptor.csv\")"
   ]
  },
  {
   "cell_type": "code",
   "execution_count": 46,
   "metadata": {
    "collapsed": false
   },
   "outputs": [
    {
     "name": "stdout",
     "output_type": "stream",
     "text": [
      "  component_id component_type_id  adaptor_angle  overall_length end_form_id_1  \\\n",
      "0       C-0005            CP-028            NaN            58.4         A-001   \n",
      "1       C-0006            CP-028            NaN            34.8         A-001   \n",
      "2       C-1435            CP-028            NaN            20.3         A-007   \n",
      "3       C-1546            CP-028            NaN            26.4         A-007   \n",
      "4       C-1583            CP-028            NaN            44.5         A-001   \n",
      "\n",
      "  connection_type_id_1  length_1  thread_size_1  thread_pitch_1  \\\n",
      "0                B-001       NaN          1.312            12.0   \n",
      "1                B-001       NaN          0.437            20.0   \n",
      "2                B-004       NaN            NaN             NaN   \n",
      "3                B-004       NaN          0.125            27.0   \n",
      "4                B-005       NaN          1.312            12.0   \n",
      "\n",
      "   nominal_size_1 end_form_id_2 connection_type_id_2  length_2  thread_size_2  \\\n",
      "0             NaN         A-001                B-004       NaN          1.000   \n",
      "1             NaN         A-001                B-005       NaN          0.750   \n",
      "2           15.88         A-001                B-007       NaN          0.875   \n",
      "3             NaN         A-001                B-004       NaN          0.125   \n",
      "4             NaN         A-007                B-005       NaN          1.062   \n",
      "\n",
      "   thread_pitch_2  nominal_size_2  hex_size unique_feature orientation  weight  \n",
      "0            11.5             NaN     34.93             No          No   0.206  \n",
      "1            16.0             NaN     22.20             No          No   0.083  \n",
      "2            18.0             NaN     22.22             No          No   0.023  \n",
      "3            27.0             NaN     15.88             No          No   0.026  \n",
      "4            12.0             NaN     38.10             No          No   0.256  \n",
      "\n",
      "\n",
      "Shape:  (25, 20)\n",
      "component_id             object\n",
      "component_type_id        object\n",
      "adaptor_angle           float64\n",
      "overall_length          float64\n",
      "end_form_id_1            object\n",
      "connection_type_id_1     object\n",
      "length_1                float64\n",
      "thread_size_1           float64\n",
      "thread_pitch_1          float64\n",
      "nominal_size_1          float64\n",
      "end_form_id_2            object\n",
      "connection_type_id_2     object\n",
      "length_2                float64\n",
      "thread_size_2           float64\n",
      "thread_pitch_2          float64\n",
      "nominal_size_2          float64\n",
      "hex_size                float64\n",
      "unique_feature           object\n",
      "orientation              object\n",
      "weight                  float64\n",
      "dtype: object\n",
      "adaptor_angle  has nulls\n",
      "overall_length  has nulls\n",
      "connection_type_id_1  has nulls\n",
      "length_1  has nulls\n",
      "thread_size_1  has nulls\n",
      "thread_pitch_1  has nulls\n",
      "nominal_size_1  has nulls\n",
      "connection_type_id_2  has nulls\n",
      "length_2  has nulls\n",
      "thread_size_2  has nulls\n",
      "thread_pitch_2  has nulls\n",
      "nominal_size_2  has nulls\n",
      "hex_size  has nulls\n",
      "weight  has nulls\n"
     ]
    }
   ],
   "source": [
    "df_details(df_comp_ad)"
   ]
  },
  {
   "cell_type": "markdown",
   "metadata": {},
   "source": [
    "## tube_end_form"
   ]
  },
  {
   "cell_type": "code",
   "execution_count": 7,
   "metadata": {
    "collapsed": true
   },
   "outputs": [],
   "source": [
    "df_tef = pd.read_csv(\"raw_data/tube_end_form.csv\")"
   ]
  },
  {
   "cell_type": "code",
   "execution_count": 38,
   "metadata": {
    "collapsed": false
   },
   "outputs": [
    {
     "name": "stdout",
     "output_type": "stream",
     "text": [
      "  end_form_id forming\n",
      "0      EF-001     Yes\n",
      "1      EF-002      No\n",
      "2      EF-003      No\n",
      "3      EF-004      No\n",
      "4      EF-005     Yes\n",
      "\n",
      "\n",
      "Shape:  (27, 2)\n",
      "end_form_id    object\n",
      "forming        object\n",
      "dtype: object\n"
     ]
    }
   ],
   "source": [
    "df_details(df_tef)"
   ]
  },
  {
   "cell_type": "code",
   "execution_count": 8,
   "metadata": {
    "collapsed": false
   },
   "outputs": [
    {
     "data": {
      "text/plain": [
       "27"
      ]
     },
     "execution_count": 8,
     "metadata": {},
     "output_type": "execute_result"
    }
   ],
   "source": [
    "len(df_tef[\"end_form_id\"].unique())"
   ]
  },
  {
   "cell_type": "markdown",
   "metadata": {},
   "source": [
    "### type_component"
   ]
  },
  {
   "cell_type": "code",
   "execution_count": 2,
   "metadata": {
    "collapsed": true
   },
   "outputs": [],
   "source": [
    "df_type_comp = pd.read_csv(\"raw_data/type_component.csv\")"
   ]
  },
  {
   "cell_type": "code",
   "execution_count": 4,
   "metadata": {
    "collapsed": false
   },
   "outputs": [
    {
     "data": {
      "text/html": [
       "<div>\n",
       "<table border=\"1\" class=\"dataframe\">\n",
       "  <thead>\n",
       "    <tr style=\"text-align: right;\">\n",
       "      <th></th>\n",
       "      <th>component_type_id</th>\n",
       "      <th>name</th>\n",
       "    </tr>\n",
       "  </thead>\n",
       "  <tbody>\n",
       "    <tr>\n",
       "      <th>0</th>\n",
       "      <td>CP-001</td>\n",
       "      <td>4-bolt Tig Straight</td>\n",
       "    </tr>\n",
       "    <tr>\n",
       "      <th>1</th>\n",
       "      <td>CP-002</td>\n",
       "      <td>4-bolt MJ Straight</td>\n",
       "    </tr>\n",
       "    <tr>\n",
       "      <th>2</th>\n",
       "      <td>CP-003</td>\n",
       "      <td>4-bolt Braze/Weld Straight</td>\n",
       "    </tr>\n",
       "    <tr>\n",
       "      <th>3</th>\n",
       "      <td>CP-004</td>\n",
       "      <td>2-bolt Braze/Weld Straight</td>\n",
       "    </tr>\n",
       "    <tr>\n",
       "      <th>4</th>\n",
       "      <td>CP-005</td>\n",
       "      <td>2-bolt MJ Straight</td>\n",
       "    </tr>\n",
       "    <tr>\n",
       "      <th>5</th>\n",
       "      <td>CP-006</td>\n",
       "      <td>Braze/Weld Flange Head</td>\n",
       "    </tr>\n",
       "    <tr>\n",
       "      <th>6</th>\n",
       "      <td>CP-007</td>\n",
       "      <td>MJ Flange Head</td>\n",
       "    </tr>\n",
       "    <tr>\n",
       "      <th>7</th>\n",
       "      <td>CP-008</td>\n",
       "      <td>4-bolt Braze/Weld Elbow</td>\n",
       "    </tr>\n",
       "    <tr>\n",
       "      <th>8</th>\n",
       "      <td>CP-009</td>\n",
       "      <td>4-bolt Tig Elbow</td>\n",
       "    </tr>\n",
       "    <tr>\n",
       "      <th>9</th>\n",
       "      <td>CP-010</td>\n",
       "      <td>2-bolt Braze/Weld Elbow</td>\n",
       "    </tr>\n",
       "    <tr>\n",
       "      <th>10</th>\n",
       "      <td>CP-011</td>\n",
       "      <td>4-bolt MJ Elbow</td>\n",
       "    </tr>\n",
       "    <tr>\n",
       "      <th>11</th>\n",
       "      <td>CP-012</td>\n",
       "      <td>MJ Plug</td>\n",
       "    </tr>\n",
       "    <tr>\n",
       "      <th>12</th>\n",
       "      <td>CP-013</td>\n",
       "      <td>4-bolt MJ Tee</td>\n",
       "    </tr>\n",
       "    <tr>\n",
       "      <th>13</th>\n",
       "      <td>CP-014</td>\n",
       "      <td>Threaded Straight</td>\n",
       "    </tr>\n",
       "    <tr>\n",
       "      <th>14</th>\n",
       "      <td>CP-015</td>\n",
       "      <td>Threaded Elbow</td>\n",
       "    </tr>\n",
       "    <tr>\n",
       "      <th>15</th>\n",
       "      <td>CP-016</td>\n",
       "      <td>Threaded Tee</td>\n",
       "    </tr>\n",
       "    <tr>\n",
       "      <th>16</th>\n",
       "      <td>CP-017</td>\n",
       "      <td>Threaded Lateral Cross</td>\n",
       "    </tr>\n",
       "    <tr>\n",
       "      <th>17</th>\n",
       "      <td>CP-018</td>\n",
       "      <td>Threaded Boss</td>\n",
       "    </tr>\n",
       "    <tr>\n",
       "      <th>18</th>\n",
       "      <td>CP-019</td>\n",
       "      <td>4-bolt Boss</td>\n",
       "    </tr>\n",
       "    <tr>\n",
       "      <th>19</th>\n",
       "      <td>CP-020</td>\n",
       "      <td>2-bolt Boss</td>\n",
       "    </tr>\n",
       "    <tr>\n",
       "      <th>20</th>\n",
       "      <td>CP-021</td>\n",
       "      <td>Free-Floating 4-bolt Spacer</td>\n",
       "    </tr>\n",
       "    <tr>\n",
       "      <th>21</th>\n",
       "      <td>CP-022</td>\n",
       "      <td>Free-Floating 4-bolt Captive Flange</td>\n",
       "    </tr>\n",
       "    <tr>\n",
       "      <th>22</th>\n",
       "      <td>CP-023</td>\n",
       "      <td>Stems and Shells</td>\n",
       "    </tr>\n",
       "    <tr>\n",
       "      <th>23</th>\n",
       "      <td>CP-024</td>\n",
       "      <td>Sleeves</td>\n",
       "    </tr>\n",
       "    <tr>\n",
       "      <th>24</th>\n",
       "      <td>CP-025</td>\n",
       "      <td>ORFS Nut</td>\n",
       "    </tr>\n",
       "    <tr>\n",
       "      <th>25</th>\n",
       "      <td>CP-026</td>\n",
       "      <td>JIC 37 - 45 Nut</td>\n",
       "    </tr>\n",
       "    <tr>\n",
       "      <th>26</th>\n",
       "      <td>CP-027</td>\n",
       "      <td>Weld On Nut</td>\n",
       "    </tr>\n",
       "    <tr>\n",
       "      <th>27</th>\n",
       "      <td>CP-028</td>\n",
       "      <td>Straight Adapter</td>\n",
       "    </tr>\n",
       "    <tr>\n",
       "      <th>28</th>\n",
       "      <td>CP-029</td>\n",
       "      <td>Elbow Adapter</td>\n",
       "    </tr>\n",
       "  </tbody>\n",
       "</table>\n",
       "</div>"
      ],
      "text/plain": [
       "   component_type_id                                 name\n",
       "0             CP-001                  4-bolt Tig Straight\n",
       "1             CP-002                   4-bolt MJ Straight\n",
       "2             CP-003           4-bolt Braze/Weld Straight\n",
       "3             CP-004           2-bolt Braze/Weld Straight\n",
       "4             CP-005                   2-bolt MJ Straight\n",
       "5             CP-006               Braze/Weld Flange Head\n",
       "6             CP-007                       MJ Flange Head\n",
       "7             CP-008              4-bolt Braze/Weld Elbow\n",
       "8             CP-009                     4-bolt Tig Elbow\n",
       "9             CP-010              2-bolt Braze/Weld Elbow\n",
       "10            CP-011                      4-bolt MJ Elbow\n",
       "11            CP-012                              MJ Plug\n",
       "12            CP-013                        4-bolt MJ Tee\n",
       "13            CP-014                    Threaded Straight\n",
       "14            CP-015                       Threaded Elbow\n",
       "15            CP-016                         Threaded Tee\n",
       "16            CP-017               Threaded Lateral Cross\n",
       "17            CP-018                        Threaded Boss\n",
       "18            CP-019                          4-bolt Boss\n",
       "19            CP-020                          2-bolt Boss\n",
       "20            CP-021          Free-Floating 4-bolt Spacer\n",
       "21            CP-022  Free-Floating 4-bolt Captive Flange\n",
       "22            CP-023                     Stems and Shells\n",
       "23            CP-024                              Sleeves\n",
       "24            CP-025                             ORFS Nut\n",
       "25            CP-026                      JIC 37 - 45 Nut\n",
       "26            CP-027                          Weld On Nut\n",
       "27            CP-028                     Straight Adapter\n",
       "28            CP-029                        Elbow Adapter"
      ]
     },
     "execution_count": 4,
     "metadata": {},
     "output_type": "execute_result"
    }
   ],
   "source": [
    "df_type_comp"
   ]
  },
  {
   "cell_type": "code",
   "execution_count": 14,
   "metadata": {
    "collapsed": false
   },
   "outputs": [
    {
     "name": "stdout",
     "output_type": "stream",
     "text": [
      "  component_type_id                        name\n",
      "0            CP-001         4-bolt Tig Straight\n",
      "1            CP-002          4-bolt MJ Straight\n",
      "2            CP-003  4-bolt Braze/Weld Straight\n",
      "3            CP-004  2-bolt Braze/Weld Straight\n",
      "4            CP-005          2-bolt MJ Straight\n",
      "\n",
      "\n",
      "Shape:  (29, 2)\n",
      "component_type_id    object\n",
      "name                 object\n",
      "dtype: object\n"
     ]
    }
   ],
   "source": [
    "df_details(df_type_comp)"
   ]
  },
  {
   "cell_type": "code",
   "execution_count": 18,
   "metadata": {
    "collapsed": false
   },
   "outputs": [
    {
     "data": {
      "text/html": [
       "<div>\n",
       "<table border=\"1\" class=\"dataframe\">\n",
       "  <thead>\n",
       "    <tr style=\"text-align: right;\">\n",
       "      <th></th>\n",
       "      <th>component_type_id</th>\n",
       "      <th>name</th>\n",
       "    </tr>\n",
       "  </thead>\n",
       "  <tbody>\n",
       "    <tr>\n",
       "      <th>0</th>\n",
       "      <td>CP-001</td>\n",
       "      <td>4-bolt Tig Straight</td>\n",
       "    </tr>\n",
       "    <tr>\n",
       "      <th>1</th>\n",
       "      <td>CP-002</td>\n",
       "      <td>4-bolt MJ Straight</td>\n",
       "    </tr>\n",
       "    <tr>\n",
       "      <th>2</th>\n",
       "      <td>CP-003</td>\n",
       "      <td>4-bolt Braze/Weld Straight</td>\n",
       "    </tr>\n",
       "    <tr>\n",
       "      <th>3</th>\n",
       "      <td>CP-004</td>\n",
       "      <td>2-bolt Braze/Weld Straight</td>\n",
       "    </tr>\n",
       "    <tr>\n",
       "      <th>4</th>\n",
       "      <td>CP-005</td>\n",
       "      <td>2-bolt MJ Straight</td>\n",
       "    </tr>\n",
       "    <tr>\n",
       "      <th>5</th>\n",
       "      <td>CP-006</td>\n",
       "      <td>Braze/Weld Flange Head</td>\n",
       "    </tr>\n",
       "    <tr>\n",
       "      <th>6</th>\n",
       "      <td>CP-007</td>\n",
       "      <td>MJ Flange Head</td>\n",
       "    </tr>\n",
       "    <tr>\n",
       "      <th>7</th>\n",
       "      <td>CP-008</td>\n",
       "      <td>4-bolt Braze/Weld Elbow</td>\n",
       "    </tr>\n",
       "    <tr>\n",
       "      <th>8</th>\n",
       "      <td>CP-009</td>\n",
       "      <td>4-bolt Tig Elbow</td>\n",
       "    </tr>\n",
       "    <tr>\n",
       "      <th>9</th>\n",
       "      <td>CP-010</td>\n",
       "      <td>2-bolt Braze/Weld Elbow</td>\n",
       "    </tr>\n",
       "    <tr>\n",
       "      <th>10</th>\n",
       "      <td>CP-011</td>\n",
       "      <td>4-bolt MJ Elbow</td>\n",
       "    </tr>\n",
       "    <tr>\n",
       "      <th>11</th>\n",
       "      <td>CP-012</td>\n",
       "      <td>MJ Plug</td>\n",
       "    </tr>\n",
       "    <tr>\n",
       "      <th>12</th>\n",
       "      <td>CP-013</td>\n",
       "      <td>4-bolt MJ Tee</td>\n",
       "    </tr>\n",
       "    <tr>\n",
       "      <th>13</th>\n",
       "      <td>CP-014</td>\n",
       "      <td>Threaded Straight</td>\n",
       "    </tr>\n",
       "    <tr>\n",
       "      <th>14</th>\n",
       "      <td>CP-015</td>\n",
       "      <td>Threaded Elbow</td>\n",
       "    </tr>\n",
       "    <tr>\n",
       "      <th>15</th>\n",
       "      <td>CP-016</td>\n",
       "      <td>Threaded Tee</td>\n",
       "    </tr>\n",
       "    <tr>\n",
       "      <th>16</th>\n",
       "      <td>CP-017</td>\n",
       "      <td>Threaded Lateral Cross</td>\n",
       "    </tr>\n",
       "    <tr>\n",
       "      <th>17</th>\n",
       "      <td>CP-018</td>\n",
       "      <td>Threaded Boss</td>\n",
       "    </tr>\n",
       "    <tr>\n",
       "      <th>18</th>\n",
       "      <td>CP-019</td>\n",
       "      <td>4-bolt Boss</td>\n",
       "    </tr>\n",
       "    <tr>\n",
       "      <th>19</th>\n",
       "      <td>CP-020</td>\n",
       "      <td>2-bolt Boss</td>\n",
       "    </tr>\n",
       "    <tr>\n",
       "      <th>20</th>\n",
       "      <td>CP-021</td>\n",
       "      <td>Free-Floating 4-bolt Spacer</td>\n",
       "    </tr>\n",
       "    <tr>\n",
       "      <th>21</th>\n",
       "      <td>CP-022</td>\n",
       "      <td>Free-Floating 4-bolt Captive Flange</td>\n",
       "    </tr>\n",
       "    <tr>\n",
       "      <th>22</th>\n",
       "      <td>CP-023</td>\n",
       "      <td>Stems and Shells</td>\n",
       "    </tr>\n",
       "    <tr>\n",
       "      <th>23</th>\n",
       "      <td>CP-024</td>\n",
       "      <td>Sleeves</td>\n",
       "    </tr>\n",
       "    <tr>\n",
       "      <th>24</th>\n",
       "      <td>CP-025</td>\n",
       "      <td>ORFS Nut</td>\n",
       "    </tr>\n",
       "    <tr>\n",
       "      <th>25</th>\n",
       "      <td>CP-026</td>\n",
       "      <td>JIC 37 - 45 Nut</td>\n",
       "    </tr>\n",
       "    <tr>\n",
       "      <th>26</th>\n",
       "      <td>CP-027</td>\n",
       "      <td>Weld On Nut</td>\n",
       "    </tr>\n",
       "    <tr>\n",
       "      <th>27</th>\n",
       "      <td>CP-028</td>\n",
       "      <td>Straight Adapter</td>\n",
       "    </tr>\n",
       "    <tr>\n",
       "      <th>28</th>\n",
       "      <td>CP-029</td>\n",
       "      <td>Elbow Adapter</td>\n",
       "    </tr>\n",
       "  </tbody>\n",
       "</table>\n",
       "</div>"
      ],
      "text/plain": [
       "   component_type_id                                 name\n",
       "0             CP-001                  4-bolt Tig Straight\n",
       "1             CP-002                   4-bolt MJ Straight\n",
       "2             CP-003           4-bolt Braze/Weld Straight\n",
       "3             CP-004           2-bolt Braze/Weld Straight\n",
       "4             CP-005                   2-bolt MJ Straight\n",
       "5             CP-006               Braze/Weld Flange Head\n",
       "6             CP-007                       MJ Flange Head\n",
       "7             CP-008              4-bolt Braze/Weld Elbow\n",
       "8             CP-009                     4-bolt Tig Elbow\n",
       "9             CP-010              2-bolt Braze/Weld Elbow\n",
       "10            CP-011                      4-bolt MJ Elbow\n",
       "11            CP-012                              MJ Plug\n",
       "12            CP-013                        4-bolt MJ Tee\n",
       "13            CP-014                    Threaded Straight\n",
       "14            CP-015                       Threaded Elbow\n",
       "15            CP-016                         Threaded Tee\n",
       "16            CP-017               Threaded Lateral Cross\n",
       "17            CP-018                        Threaded Boss\n",
       "18            CP-019                          4-bolt Boss\n",
       "19            CP-020                          2-bolt Boss\n",
       "20            CP-021          Free-Floating 4-bolt Spacer\n",
       "21            CP-022  Free-Floating 4-bolt Captive Flange\n",
       "22            CP-023                     Stems and Shells\n",
       "23            CP-024                              Sleeves\n",
       "24            CP-025                             ORFS Nut\n",
       "25            CP-026                      JIC 37 - 45 Nut\n",
       "26            CP-027                          Weld On Nut\n",
       "27            CP-028                     Straight Adapter\n",
       "28            CP-029                        Elbow Adapter"
      ]
     },
     "execution_count": 18,
     "metadata": {},
     "output_type": "execute_result"
    }
   ],
   "source": [
    "df_type_comp"
   ]
  },
  {
   "cell_type": "markdown",
   "metadata": {},
   "source": [
    "## type_connection"
   ]
  },
  {
   "cell_type": "code",
   "execution_count": 41,
   "metadata": {
    "collapsed": true
   },
   "outputs": [],
   "source": [
    "df_type_conn = pd.read_csv(\"raw_data/type_connection.csv\")"
   ]
  },
  {
   "cell_type": "code",
   "execution_count": 42,
   "metadata": {
    "collapsed": false
   },
   "outputs": [
    {
     "name": "stdout",
     "output_type": "stream",
     "text": [
      "  connection_type_id                   name\n",
      "0              B-001  37 deg Flare-SAE J514\n",
      "1              B-002         ORFS-SAE J1453\n",
      "2              B-003                Hi-Duty\n",
      "3              B-004     NPTF-SAE J476/J514\n",
      "4              B-005     SAE STOR-SAE J1926\n",
      "\n",
      "\n",
      "Shape:  (14, 2)\n",
      "connection_type_id    object\n",
      "name                  object\n",
      "dtype: object\n"
     ]
    }
   ],
   "source": [
    "df_details(df_type_conn)"
   ]
  },
  {
   "cell_type": "markdown",
   "metadata": {},
   "source": [
    "## type_end_form"
   ]
  },
  {
   "cell_type": "code",
   "execution_count": 43,
   "metadata": {
    "collapsed": true
   },
   "outputs": [],
   "source": [
    "df_end_form = pd.read_csv(\"raw_data/type_end_form.csv\")"
   ]
  },
  {
   "cell_type": "code",
   "execution_count": 44,
   "metadata": {
    "collapsed": false
   },
   "outputs": [
    {
     "name": "stdout",
     "output_type": "stream",
     "text": [
      "  end_form_id               name\n",
      "0       A-001        Male (Stud)\n",
      "1       A-002      Male (Swivel)\n",
      "2       A-003    Braze-Weld Boss\n",
      "3       A-004  Braze-Weld Socket\n",
      "4       A-005         Swivel Nut\n",
      "\n",
      "\n",
      "Shape:  (8, 2)\n",
      "end_form_id    object\n",
      "name           object\n",
      "dtype: object\n"
     ]
    }
   ],
   "source": [
    "df_details(df_end_form)"
   ]
  },
  {
   "cell_type": "markdown",
   "metadata": {},
   "source": [
    "## comp_threaded"
   ]
  },
  {
   "cell_type": "code",
   "execution_count": 50,
   "metadata": {
    "collapsed": true
   },
   "outputs": [],
   "source": [
    "df_comp_th = pd.read_csv(\"raw_data/comp_threaded.csv\")"
   ]
  },
  {
   "cell_type": "code",
   "execution_count": 51,
   "metadata": {
    "collapsed": false
   },
   "outputs": [
    {
     "name": "stdout",
     "output_type": "stream",
     "text": [
      "  component_id component_type_id  adaptor_angle  overall_length  hex_size  \\\n",
      "0       C-0007            CP-014            NaN            24.4     12.70   \n",
      "1       C-0030            CP-015           90.0             NaN       NaN   \n",
      "2       C-0041            CP-014            NaN            28.0     32.00   \n",
      "3       C-0043            CP-014            NaN            38.0     27.00   \n",
      "4       C-0044            CP-014            NaN            30.5     41.28   \n",
      "\n",
      "  end_form_id_1 connection_type_id_1  length_1  thread_size_1  thread_pitch_1  \\\n",
      "0         A-001                B-001       NaN          0.437            20.0   \n",
      "1         A-003                  NaN      47.0            NaN             NaN   \n",
      "2         A-004                  NaN       NaN            NaN             NaN   \n",
      "3         A-003                  NaN       NaN            NaN             NaN   \n",
      "4         A-004                  NaN       NaN            NaN             NaN   \n",
      "\n",
      "    ...   nominal_size_3 end_form_id_4 connection_type_id_4  length_4  \\\n",
      "0   ...              NaN           NaN                  NaN       NaN   \n",
      "1   ...              NaN           NaN                  NaN       NaN   \n",
      "2   ...              NaN           NaN                  NaN       NaN   \n",
      "3   ...              NaN           NaN                  NaN       NaN   \n",
      "4   ...              NaN           NaN                  NaN       NaN   \n",
      "\n",
      "   thread_size_4  thread_pitch_4  nominal_size_4 unique_feature orientation  \\\n",
      "0            NaN             NaN             NaN             No          No   \n",
      "1            NaN             NaN             NaN             No         Yes   \n",
      "2            NaN             NaN             NaN             No          No   \n",
      "3            NaN             NaN             NaN             No          No   \n",
      "4            NaN             NaN             NaN             No          No   \n",
      "\n",
      "   weight  \n",
      "0   0.028  \n",
      "1   0.914  \n",
      "2   0.120  \n",
      "3   0.090  \n",
      "4   0.182  \n",
      "\n",
      "[5 rows x 32 columns]\n",
      "\n",
      "\n",
      "Shape:  (194, 32)\n",
      "component_id             object\n",
      "component_type_id        object\n",
      "adaptor_angle           float64\n",
      "overall_length          float64\n",
      "hex_size                float64\n",
      "end_form_id_1            object\n",
      "connection_type_id_1     object\n",
      "length_1                float64\n",
      "thread_size_1           float64\n",
      "thread_pitch_1          float64\n",
      "nominal_size_1           object\n",
      "end_form_id_2            object\n",
      "connection_type_id_2     object\n",
      "length_2                float64\n",
      "thread_size_2           float64\n",
      "thread_pitch_2          float64\n",
      "nominal_size_2          float64\n",
      "end_form_id_3            object\n",
      "connection_type_id_3     object\n",
      "length_3                float64\n",
      "thread_size_3           float64\n",
      "thread_pitch_3          float64\n",
      "nominal_size_3          float64\n",
      "end_form_id_4            object\n",
      "connection_type_id_4     object\n",
      "length_4                float64\n",
      "thread_size_4           float64\n",
      "thread_pitch_4          float64\n",
      "nominal_size_4          float64\n",
      "unique_feature           object\n",
      "orientation              object\n",
      "weight                  float64\n",
      "dtype: object\n",
      "adaptor_angle  has nulls\n",
      "overall_length  has nulls\n",
      "hex_size  has nulls\n",
      "connection_type_id_1  has nulls\n",
      "length_1  has nulls\n",
      "thread_size_1  has nulls\n",
      "thread_pitch_1  has nulls\n",
      "nominal_size_1  has nulls\n",
      "connection_type_id_2  has nulls\n",
      "length_2  has nulls\n",
      "thread_size_2  has nulls\n",
      "thread_pitch_2  has nulls\n",
      "nominal_size_2  has nulls\n",
      "end_form_id_3  has nulls\n",
      "connection_type_id_3  has nulls\n",
      "length_3  has nulls\n",
      "thread_size_3  has nulls\n",
      "thread_pitch_3  has nulls\n",
      "nominal_size_3  has nulls\n",
      "end_form_id_4  has nulls\n",
      "connection_type_id_4  has nulls\n",
      "length_4  has nulls\n",
      "thread_size_4  has nulls\n",
      "thread_pitch_4  has nulls\n",
      "nominal_size_4  has nulls\n",
      "weight  has nulls\n"
     ]
    }
   ],
   "source": [
    "df_details(df_comp_th)"
   ]
  },
  {
   "cell_type": "code",
   "execution_count": 53,
   "metadata": {
    "collapsed": false
   },
   "outputs": [
    {
     "name": "stdout",
     "output_type": "stream",
     "text": [
      "end_form_id_1 ['A-001' 'A-003' 'A-004' 'A-005' 'A-006' 'A-007']\n",
      "end_form_id_2 ['A-004' 'A-003' 'A-001' 'A-005' 'A-007' 'A-006']\n",
      "end_form_id_3 [nan 'A-001' 'A-004' 'A-006' 'A-003']\n",
      "end_form_id_4 [nan 'A-001']\n"
     ]
    }
   ],
   "source": [
    "for col in df_comp_th.columns:\n",
    "    if col[:3] == \"end\":\n",
    "        print(col, df_comp_th[col].unique())"
   ]
  },
  {
   "cell_type": "markdown",
   "metadata": {
    "collapsed": true
   },
   "source": [
    "## specs"
   ]
  },
  {
   "cell_type": "code",
   "execution_count": 31,
   "metadata": {
    "collapsed": true
   },
   "outputs": [],
   "source": [
    "df_specs = pd.read_csv(\"raw_data/specs.csv\")"
   ]
  },
  {
   "cell_type": "code",
   "execution_count": 32,
   "metadata": {
    "collapsed": false
   },
   "outputs": [
    {
     "name": "stdout",
     "output_type": "stream",
     "text": [
      "  tube_assembly_id spec1 spec2 spec3 spec4 spec5 spec6 spec7 spec8 spec9  \\\n",
      "0         TA-00001   NaN   NaN   NaN   NaN   NaN   NaN   NaN   NaN   NaN   \n",
      "1         TA-00002   NaN   NaN   NaN   NaN   NaN   NaN   NaN   NaN   NaN   \n",
      "2         TA-00003   NaN   NaN   NaN   NaN   NaN   NaN   NaN   NaN   NaN   \n",
      "3         TA-00004   NaN   NaN   NaN   NaN   NaN   NaN   NaN   NaN   NaN   \n",
      "4         TA-00005   NaN   NaN   NaN   NaN   NaN   NaN   NaN   NaN   NaN   \n",
      "\n",
      "  spec10  \n",
      "0    NaN  \n",
      "1    NaN  \n",
      "2    NaN  \n",
      "3    NaN  \n",
      "4    NaN  \n",
      "\n",
      "\n",
      "Shape:  (21198, 11)\n",
      "tube_assembly_id    object\n",
      "spec1               object\n",
      "spec2               object\n",
      "spec3               object\n",
      "spec4               object\n",
      "spec5               object\n",
      "spec6               object\n",
      "spec7               object\n",
      "spec8               object\n",
      "spec9               object\n",
      "spec10              object\n",
      "dtype: object\n",
      "spec1  has nulls\n",
      "spec2  has nulls\n",
      "spec3  has nulls\n",
      "spec4  has nulls\n",
      "spec5  has nulls\n",
      "spec6  has nulls\n",
      "spec7  has nulls\n",
      "spec8  has nulls\n",
      "spec9  has nulls\n",
      "spec10  has nulls\n"
     ]
    }
   ],
   "source": [
    "df_details(df_specs)"
   ]
  },
  {
   "cell_type": "markdown",
   "metadata": {},
   "source": [
    "## components and type_components"
   ]
  },
  {
   "cell_type": "code",
   "execution_count": 45,
   "metadata": {
    "collapsed": false
   },
   "outputs": [
    {
     "data": {
      "text/html": [
       "<div>\n",
       "<table border=\"1\" class=\"dataframe\">\n",
       "  <thead>\n",
       "    <tr style=\"text-align: right;\">\n",
       "      <th></th>\n",
       "      <th>component_type_id</th>\n",
       "      <th>name</th>\n",
       "    </tr>\n",
       "  </thead>\n",
       "  <tbody>\n",
       "    <tr>\n",
       "      <th>0</th>\n",
       "      <td>CP-001</td>\n",
       "      <td>4-bolt Tig Straight</td>\n",
       "    </tr>\n",
       "    <tr>\n",
       "      <th>1</th>\n",
       "      <td>CP-002</td>\n",
       "      <td>4-bolt MJ Straight</td>\n",
       "    </tr>\n",
       "    <tr>\n",
       "      <th>2</th>\n",
       "      <td>CP-003</td>\n",
       "      <td>4-bolt Braze/Weld Straight</td>\n",
       "    </tr>\n",
       "    <tr>\n",
       "      <th>3</th>\n",
       "      <td>CP-004</td>\n",
       "      <td>2-bolt Braze/Weld Straight</td>\n",
       "    </tr>\n",
       "    <tr>\n",
       "      <th>4</th>\n",
       "      <td>CP-005</td>\n",
       "      <td>2-bolt MJ Straight</td>\n",
       "    </tr>\n",
       "    <tr>\n",
       "      <th>5</th>\n",
       "      <td>CP-006</td>\n",
       "      <td>Braze/Weld Flange Head</td>\n",
       "    </tr>\n",
       "    <tr>\n",
       "      <th>6</th>\n",
       "      <td>CP-007</td>\n",
       "      <td>MJ Flange Head</td>\n",
       "    </tr>\n",
       "    <tr>\n",
       "      <th>7</th>\n",
       "      <td>CP-008</td>\n",
       "      <td>4-bolt Braze/Weld Elbow</td>\n",
       "    </tr>\n",
       "    <tr>\n",
       "      <th>8</th>\n",
       "      <td>CP-009</td>\n",
       "      <td>4-bolt Tig Elbow</td>\n",
       "    </tr>\n",
       "    <tr>\n",
       "      <th>9</th>\n",
       "      <td>CP-010</td>\n",
       "      <td>2-bolt Braze/Weld Elbow</td>\n",
       "    </tr>\n",
       "    <tr>\n",
       "      <th>10</th>\n",
       "      <td>CP-011</td>\n",
       "      <td>4-bolt MJ Elbow</td>\n",
       "    </tr>\n",
       "    <tr>\n",
       "      <th>11</th>\n",
       "      <td>CP-012</td>\n",
       "      <td>MJ Plug</td>\n",
       "    </tr>\n",
       "    <tr>\n",
       "      <th>12</th>\n",
       "      <td>CP-013</td>\n",
       "      <td>4-bolt MJ Tee</td>\n",
       "    </tr>\n",
       "    <tr>\n",
       "      <th>13</th>\n",
       "      <td>CP-014</td>\n",
       "      <td>Threaded Straight</td>\n",
       "    </tr>\n",
       "    <tr>\n",
       "      <th>14</th>\n",
       "      <td>CP-015</td>\n",
       "      <td>Threaded Elbow</td>\n",
       "    </tr>\n",
       "    <tr>\n",
       "      <th>15</th>\n",
       "      <td>CP-016</td>\n",
       "      <td>Threaded Tee</td>\n",
       "    </tr>\n",
       "    <tr>\n",
       "      <th>16</th>\n",
       "      <td>CP-017</td>\n",
       "      <td>Threaded Lateral Cross</td>\n",
       "    </tr>\n",
       "    <tr>\n",
       "      <th>17</th>\n",
       "      <td>CP-018</td>\n",
       "      <td>Threaded Boss</td>\n",
       "    </tr>\n",
       "    <tr>\n",
       "      <th>18</th>\n",
       "      <td>CP-019</td>\n",
       "      <td>4-bolt Boss</td>\n",
       "    </tr>\n",
       "    <tr>\n",
       "      <th>19</th>\n",
       "      <td>CP-020</td>\n",
       "      <td>2-bolt Boss</td>\n",
       "    </tr>\n",
       "    <tr>\n",
       "      <th>20</th>\n",
       "      <td>CP-021</td>\n",
       "      <td>Free-Floating 4-bolt Spacer</td>\n",
       "    </tr>\n",
       "    <tr>\n",
       "      <th>21</th>\n",
       "      <td>CP-022</td>\n",
       "      <td>Free-Floating 4-bolt Captive Flange</td>\n",
       "    </tr>\n",
       "    <tr>\n",
       "      <th>22</th>\n",
       "      <td>CP-023</td>\n",
       "      <td>Stems and Shells</td>\n",
       "    </tr>\n",
       "    <tr>\n",
       "      <th>23</th>\n",
       "      <td>CP-024</td>\n",
       "      <td>Sleeves</td>\n",
       "    </tr>\n",
       "    <tr>\n",
       "      <th>24</th>\n",
       "      <td>CP-025</td>\n",
       "      <td>ORFS Nut</td>\n",
       "    </tr>\n",
       "    <tr>\n",
       "      <th>25</th>\n",
       "      <td>CP-026</td>\n",
       "      <td>JIC 37 - 45 Nut</td>\n",
       "    </tr>\n",
       "    <tr>\n",
       "      <th>26</th>\n",
       "      <td>CP-027</td>\n",
       "      <td>Weld On Nut</td>\n",
       "    </tr>\n",
       "    <tr>\n",
       "      <th>27</th>\n",
       "      <td>CP-028</td>\n",
       "      <td>Straight Adapter</td>\n",
       "    </tr>\n",
       "    <tr>\n",
       "      <th>28</th>\n",
       "      <td>CP-029</td>\n",
       "      <td>Elbow Adapter</td>\n",
       "    </tr>\n",
       "  </tbody>\n",
       "</table>\n",
       "</div>"
      ],
      "text/plain": [
       "   component_type_id                                 name\n",
       "0             CP-001                  4-bolt Tig Straight\n",
       "1             CP-002                   4-bolt MJ Straight\n",
       "2             CP-003           4-bolt Braze/Weld Straight\n",
       "3             CP-004           2-bolt Braze/Weld Straight\n",
       "4             CP-005                   2-bolt MJ Straight\n",
       "5             CP-006               Braze/Weld Flange Head\n",
       "6             CP-007                       MJ Flange Head\n",
       "7             CP-008              4-bolt Braze/Weld Elbow\n",
       "8             CP-009                     4-bolt Tig Elbow\n",
       "9             CP-010              2-bolt Braze/Weld Elbow\n",
       "10            CP-011                      4-bolt MJ Elbow\n",
       "11            CP-012                              MJ Plug\n",
       "12            CP-013                        4-bolt MJ Tee\n",
       "13            CP-014                    Threaded Straight\n",
       "14            CP-015                       Threaded Elbow\n",
       "15            CP-016                         Threaded Tee\n",
       "16            CP-017               Threaded Lateral Cross\n",
       "17            CP-018                        Threaded Boss\n",
       "18            CP-019                          4-bolt Boss\n",
       "19            CP-020                          2-bolt Boss\n",
       "20            CP-021          Free-Floating 4-bolt Spacer\n",
       "21            CP-022  Free-Floating 4-bolt Captive Flange\n",
       "22            CP-023                     Stems and Shells\n",
       "23            CP-024                              Sleeves\n",
       "24            CP-025                             ORFS Nut\n",
       "25            CP-026                      JIC 37 - 45 Nut\n",
       "26            CP-027                          Weld On Nut\n",
       "27            CP-028                     Straight Adapter\n",
       "28            CP-029                        Elbow Adapter"
      ]
     },
     "execution_count": 45,
     "metadata": {},
     "output_type": "execute_result"
    }
   ],
   "source": [
    "df_type_comp"
   ]
  },
  {
   "cell_type": "code",
   "execution_count": 38,
   "metadata": {
    "collapsed": false
   },
   "outputs": [],
   "source": [
    "df_test = df_comp.merge(df_type_comp, how = \"left\", on = \"component_type_id\")"
   ]
  },
  {
   "cell_type": "code",
   "execution_count": 44,
   "metadata": {
    "collapsed": false
   },
   "outputs": [
    {
     "data": {
      "text/plain": [
       "298"
      ]
     },
     "execution_count": 44,
     "metadata": {},
     "output_type": "execute_result"
    }
   ],
   "source": [
    "len(df_test[\"name_x\"].unique())"
   ]
  },
  {
   "cell_type": "code",
   "execution_count": null,
   "metadata": {
    "collapsed": true
   },
   "outputs": [],
   "source": []
  }
 ],
 "metadata": {
  "anaconda-cloud": {},
  "kernelspec": {
   "display_name": "Python [default]",
   "language": "python",
   "name": "python3"
  },
  "language_info": {
   "codemirror_mode": {
    "name": "ipython",
    "version": 3
   },
   "file_extension": ".py",
   "mimetype": "text/x-python",
   "name": "python",
   "nbconvert_exporter": "python",
   "pygments_lexer": "ipython3",
   "version": "3.5.2"
  }
 },
 "nbformat": 4,
 "nbformat_minor": 1
}
